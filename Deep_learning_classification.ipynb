{
  "nbformat": 4,
  "nbformat_minor": 0,
  "metadata": {
    "colab": {
      "name": "Deep learning classification.ipynb",
      "provenance": [],
      "collapsed_sections": [],
      "authorship_tag": "ABX9TyMGGiixG7CV1QnPa7bj81vk",
      "include_colab_link": true
    },
    "kernelspec": {
      "name": "python3",
      "display_name": "Python 3"
    },
    "language_info": {
      "name": "python"
    }
  },
  "cells": [
    {
      "cell_type": "markdown",
      "metadata": {
        "id": "view-in-github",
        "colab_type": "text"
      },
      "source": [
        "<a href=\"https://colab.research.google.com/github/HLCarbon/DeepLearning/blob/main/Deep_learning_classification.ipynb\" target=\"_parent\"><img src=\"https://colab.research.google.com/assets/colab-badge.svg\" alt=\"Open In Colab\"/></a>"
      ]
    },
    {
      "cell_type": "code",
      "execution_count": 1,
      "metadata": {
        "id": "tCp8rUUNEaJY"
      },
      "outputs": [],
      "source": [
        "import pandas as pd\n",
        "import numpy as np\n",
        "import random\n",
        "import seaborn as sns\n",
        "import matplotlib.pyplot as plt\n",
        "import tensorflow as tf\n",
        "from tensorflow import keras\n",
        "from tensorflow.keras import layers\n",
        "from tensorflow import math\n",
        "from sklearn.model_selection import train_test_split\n",
        "from sklearn.compose import make_column_transformer\n",
        "from sklearn.preprocessing import MinMaxScaler, OneHotEncoder\n",
        "from keras.utils.vis_utils import plot_model"
      ]
    },
    {
      "cell_type": "markdown",
      "source": [
        "Get wine data"
      ],
      "metadata": {
        "id": "jU0o1RjpF5_V"
      }
    },
    {
      "cell_type": "code",
      "source": [
        "wine_data = pd.read_csv('https://raw.githubusercontent.com/derekbanas/tensorflow/main/winequalityN.csv')\n",
        "wine_data.head()"
      ],
      "metadata": {
        "colab": {
          "base_uri": "https://localhost:8080/",
          "height": 305
        },
        "id": "8dR9ZaKuF9M6",
        "outputId": "6c7ef0d6-10cf-40d9-c6d7-1a81e68e21c7"
      },
      "execution_count": 2,
      "outputs": [
        {
          "output_type": "execute_result",
          "data": {
            "text/plain": [
              "    type  fixed acidity  volatile acidity  citric acid  residual sugar  \\\n",
              "0  white            7.0              0.27         0.36            20.7   \n",
              "1  white            6.3              0.30         0.34             1.6   \n",
              "2  white            8.1              0.28         0.40             6.9   \n",
              "3  white            7.2              0.23         0.32             8.5   \n",
              "4  white            7.2              0.23         0.32             8.5   \n",
              "\n",
              "   chlorides  free sulfur dioxide  total sulfur dioxide  density    pH  \\\n",
              "0      0.045                 45.0                 170.0   1.0010  3.00   \n",
              "1      0.049                 14.0                 132.0   0.9940  3.30   \n",
              "2      0.050                 30.0                  97.0   0.9951  3.26   \n",
              "3      0.058                 47.0                 186.0   0.9956  3.19   \n",
              "4      0.058                 47.0                 186.0   0.9956  3.19   \n",
              "\n",
              "   sulphates  alcohol  quality  \n",
              "0       0.45      8.8        6  \n",
              "1       0.49      9.5        6  \n",
              "2       0.44     10.1        6  \n",
              "3       0.40      9.9        6  \n",
              "4       0.40      9.9        6  "
            ],
            "text/html": [
              "\n",
              "  <div id=\"df-fc39c496-f5e2-4526-b2f5-98392d2a5a17\">\n",
              "    <div class=\"colab-df-container\">\n",
              "      <div>\n",
              "<style scoped>\n",
              "    .dataframe tbody tr th:only-of-type {\n",
              "        vertical-align: middle;\n",
              "    }\n",
              "\n",
              "    .dataframe tbody tr th {\n",
              "        vertical-align: top;\n",
              "    }\n",
              "\n",
              "    .dataframe thead th {\n",
              "        text-align: right;\n",
              "    }\n",
              "</style>\n",
              "<table border=\"1\" class=\"dataframe\">\n",
              "  <thead>\n",
              "    <tr style=\"text-align: right;\">\n",
              "      <th></th>\n",
              "      <th>type</th>\n",
              "      <th>fixed acidity</th>\n",
              "      <th>volatile acidity</th>\n",
              "      <th>citric acid</th>\n",
              "      <th>residual sugar</th>\n",
              "      <th>chlorides</th>\n",
              "      <th>free sulfur dioxide</th>\n",
              "      <th>total sulfur dioxide</th>\n",
              "      <th>density</th>\n",
              "      <th>pH</th>\n",
              "      <th>sulphates</th>\n",
              "      <th>alcohol</th>\n",
              "      <th>quality</th>\n",
              "    </tr>\n",
              "  </thead>\n",
              "  <tbody>\n",
              "    <tr>\n",
              "      <th>0</th>\n",
              "      <td>white</td>\n",
              "      <td>7.0</td>\n",
              "      <td>0.27</td>\n",
              "      <td>0.36</td>\n",
              "      <td>20.7</td>\n",
              "      <td>0.045</td>\n",
              "      <td>45.0</td>\n",
              "      <td>170.0</td>\n",
              "      <td>1.0010</td>\n",
              "      <td>3.00</td>\n",
              "      <td>0.45</td>\n",
              "      <td>8.8</td>\n",
              "      <td>6</td>\n",
              "    </tr>\n",
              "    <tr>\n",
              "      <th>1</th>\n",
              "      <td>white</td>\n",
              "      <td>6.3</td>\n",
              "      <td>0.30</td>\n",
              "      <td>0.34</td>\n",
              "      <td>1.6</td>\n",
              "      <td>0.049</td>\n",
              "      <td>14.0</td>\n",
              "      <td>132.0</td>\n",
              "      <td>0.9940</td>\n",
              "      <td>3.30</td>\n",
              "      <td>0.49</td>\n",
              "      <td>9.5</td>\n",
              "      <td>6</td>\n",
              "    </tr>\n",
              "    <tr>\n",
              "      <th>2</th>\n",
              "      <td>white</td>\n",
              "      <td>8.1</td>\n",
              "      <td>0.28</td>\n",
              "      <td>0.40</td>\n",
              "      <td>6.9</td>\n",
              "      <td>0.050</td>\n",
              "      <td>30.0</td>\n",
              "      <td>97.0</td>\n",
              "      <td>0.9951</td>\n",
              "      <td>3.26</td>\n",
              "      <td>0.44</td>\n",
              "      <td>10.1</td>\n",
              "      <td>6</td>\n",
              "    </tr>\n",
              "    <tr>\n",
              "      <th>3</th>\n",
              "      <td>white</td>\n",
              "      <td>7.2</td>\n",
              "      <td>0.23</td>\n",
              "      <td>0.32</td>\n",
              "      <td>8.5</td>\n",
              "      <td>0.058</td>\n",
              "      <td>47.0</td>\n",
              "      <td>186.0</td>\n",
              "      <td>0.9956</td>\n",
              "      <td>3.19</td>\n",
              "      <td>0.40</td>\n",
              "      <td>9.9</td>\n",
              "      <td>6</td>\n",
              "    </tr>\n",
              "    <tr>\n",
              "      <th>4</th>\n",
              "      <td>white</td>\n",
              "      <td>7.2</td>\n",
              "      <td>0.23</td>\n",
              "      <td>0.32</td>\n",
              "      <td>8.5</td>\n",
              "      <td>0.058</td>\n",
              "      <td>47.0</td>\n",
              "      <td>186.0</td>\n",
              "      <td>0.9956</td>\n",
              "      <td>3.19</td>\n",
              "      <td>0.40</td>\n",
              "      <td>9.9</td>\n",
              "      <td>6</td>\n",
              "    </tr>\n",
              "  </tbody>\n",
              "</table>\n",
              "</div>\n",
              "      <button class=\"colab-df-convert\" onclick=\"convertToInteractive('df-fc39c496-f5e2-4526-b2f5-98392d2a5a17')\"\n",
              "              title=\"Convert this dataframe to an interactive table.\"\n",
              "              style=\"display:none;\">\n",
              "        \n",
              "  <svg xmlns=\"http://www.w3.org/2000/svg\" height=\"24px\"viewBox=\"0 0 24 24\"\n",
              "       width=\"24px\">\n",
              "    <path d=\"M0 0h24v24H0V0z\" fill=\"none\"/>\n",
              "    <path d=\"M18.56 5.44l.94 2.06.94-2.06 2.06-.94-2.06-.94-.94-2.06-.94 2.06-2.06.94zm-11 1L8.5 8.5l.94-2.06 2.06-.94-2.06-.94L8.5 2.5l-.94 2.06-2.06.94zm10 10l.94 2.06.94-2.06 2.06-.94-2.06-.94-.94-2.06-.94 2.06-2.06.94z\"/><path d=\"M17.41 7.96l-1.37-1.37c-.4-.4-.92-.59-1.43-.59-.52 0-1.04.2-1.43.59L10.3 9.45l-7.72 7.72c-.78.78-.78 2.05 0 2.83L4 21.41c.39.39.9.59 1.41.59.51 0 1.02-.2 1.41-.59l7.78-7.78 2.81-2.81c.8-.78.8-2.07 0-2.86zM5.41 20L4 18.59l7.72-7.72 1.47 1.35L5.41 20z\"/>\n",
              "  </svg>\n",
              "      </button>\n",
              "      \n",
              "  <style>\n",
              "    .colab-df-container {\n",
              "      display:flex;\n",
              "      flex-wrap:wrap;\n",
              "      gap: 12px;\n",
              "    }\n",
              "\n",
              "    .colab-df-convert {\n",
              "      background-color: #E8F0FE;\n",
              "      border: none;\n",
              "      border-radius: 50%;\n",
              "      cursor: pointer;\n",
              "      display: none;\n",
              "      fill: #1967D2;\n",
              "      height: 32px;\n",
              "      padding: 0 0 0 0;\n",
              "      width: 32px;\n",
              "    }\n",
              "\n",
              "    .colab-df-convert:hover {\n",
              "      background-color: #E2EBFA;\n",
              "      box-shadow: 0px 1px 2px rgba(60, 64, 67, 0.3), 0px 1px 3px 1px rgba(60, 64, 67, 0.15);\n",
              "      fill: #174EA6;\n",
              "    }\n",
              "\n",
              "    [theme=dark] .colab-df-convert {\n",
              "      background-color: #3B4455;\n",
              "      fill: #D2E3FC;\n",
              "    }\n",
              "\n",
              "    [theme=dark] .colab-df-convert:hover {\n",
              "      background-color: #434B5C;\n",
              "      box-shadow: 0px 1px 3px 1px rgba(0, 0, 0, 0.15);\n",
              "      filter: drop-shadow(0px 1px 2px rgba(0, 0, 0, 0.3));\n",
              "      fill: #FFFFFF;\n",
              "    }\n",
              "  </style>\n",
              "\n",
              "      <script>\n",
              "        const buttonEl =\n",
              "          document.querySelector('#df-fc39c496-f5e2-4526-b2f5-98392d2a5a17 button.colab-df-convert');\n",
              "        buttonEl.style.display =\n",
              "          google.colab.kernel.accessAllowed ? 'block' : 'none';\n",
              "\n",
              "        async function convertToInteractive(key) {\n",
              "          const element = document.querySelector('#df-fc39c496-f5e2-4526-b2f5-98392d2a5a17');\n",
              "          const dataTable =\n",
              "            await google.colab.kernel.invokeFunction('convertToInteractive',\n",
              "                                                     [key], {});\n",
              "          if (!dataTable) return;\n",
              "\n",
              "          const docLinkHtml = 'Like what you see? Visit the ' +\n",
              "            '<a target=\"_blank\" href=https://colab.research.google.com/notebooks/data_table.ipynb>data table notebook</a>'\n",
              "            + ' to learn more about interactive tables.';\n",
              "          element.innerHTML = '';\n",
              "          dataTable['output_type'] = 'display_data';\n",
              "          await google.colab.output.renderOutput(dataTable, element);\n",
              "          const docLink = document.createElement('div');\n",
              "          docLink.innerHTML = docLinkHtml;\n",
              "          element.appendChild(docLink);\n",
              "        }\n",
              "      </script>\n",
              "    </div>\n",
              "  </div>\n",
              "  "
            ]
          },
          "metadata": {},
          "execution_count": 2
        }
      ]
    },
    {
      "cell_type": "markdown",
      "source": [
        "Delete rows with unknowns"
      ],
      "metadata": {
        "id": "Opbkr_LuGkWx"
      }
    },
    {
      "cell_type": "code",
      "source": [
        "wine_data.isna().sum()"
      ],
      "metadata": {
        "colab": {
          "base_uri": "https://localhost:8080/"
        },
        "id": "lJswjXqhG4t3",
        "outputId": "298ae7e9-0710-4d2a-c066-ec8899f02fde"
      },
      "execution_count": 3,
      "outputs": [
        {
          "output_type": "execute_result",
          "data": {
            "text/plain": [
              "type                     0\n",
              "fixed acidity           10\n",
              "volatile acidity         8\n",
              "citric acid              3\n",
              "residual sugar           2\n",
              "chlorides                2\n",
              "free sulfur dioxide      0\n",
              "total sulfur dioxide     0\n",
              "density                  0\n",
              "pH                       9\n",
              "sulphates                4\n",
              "alcohol                  0\n",
              "quality                  0\n",
              "dtype: int64"
            ]
          },
          "metadata": {},
          "execution_count": 3
        }
      ]
    },
    {
      "cell_type": "code",
      "source": [
        "wine_data = wine_data.dropna()"
      ],
      "metadata": {
        "id": "LkRpNnjnG9ge"
      },
      "execution_count": 4,
      "outputs": []
    },
    {
      "cell_type": "markdown",
      "source": [
        "Rename columns"
      ],
      "metadata": {
        "id": "uHTR149nHNuV"
      }
    },
    {
      "cell_type": "code",
      "source": [
        "wine_data.rename(columns = {'type':'white_wine'},\n",
        "                 inplace = True)"
      ],
      "metadata": {
        "colab": {
          "base_uri": "https://localhost:8080/"
        },
        "id": "TWL4CpFcHSYK",
        "outputId": "e195a6ab-2db6-468e-8cb9-776b4b99fe1d"
      },
      "execution_count": 5,
      "outputs": [
        {
          "output_type": "stream",
          "name": "stderr",
          "text": [
            "/usr/local/lib/python3.7/dist-packages/pandas/core/frame.py:5047: SettingWithCopyWarning: \n",
            "A value is trying to be set on a copy of a slice from a DataFrame\n",
            "\n",
            "See the caveats in the documentation: https://pandas.pydata.org/pandas-docs/stable/user_guide/indexing.html#returning-a-view-versus-a-copy\n",
            "  errors=errors,\n"
          ]
        }
      ]
    },
    {
      "cell_type": "markdown",
      "source": [
        "Change white_wine based on condition"
      ],
      "metadata": {
        "id": "qd4OeHtaHv-K"
      }
    },
    {
      "cell_type": "code",
      "source": [
        "wine_data.loc[wine_data['white_wine'] == 'white', 'white_wine'] = 1\n",
        "wine_data.loc[wine_data['white_wine'] == 'red', 'white_wine'] = 0"
      ],
      "metadata": {
        "colab": {
          "base_uri": "https://localhost:8080/"
        },
        "id": "dXvd1S8_H1B4",
        "outputId": "1ad30bd2-9515-4cfe-cc98-9417d7e1301f"
      },
      "execution_count": 6,
      "outputs": [
        {
          "output_type": "stream",
          "name": "stderr",
          "text": [
            "/usr/local/lib/python3.7/dist-packages/pandas/core/indexing.py:1817: SettingWithCopyWarning: \n",
            "A value is trying to be set on a copy of a slice from a DataFrame.\n",
            "Try using .loc[row_indexer,col_indexer] = value instead\n",
            "\n",
            "See the caveats in the documentation: https://pandas.pydata.org/pandas-docs/stable/user_guide/indexing.html#returning-a-view-versus-a-copy\n",
            "  self._setitem_single_column(loc, value, pi)\n"
          ]
        }
      ]
    },
    {
      "cell_type": "code",
      "source": [
        "wine_data"
      ],
      "metadata": {
        "colab": {
          "base_uri": "https://localhost:8080/",
          "height": 522
        },
        "id": "k4Npn9uHIZdt",
        "outputId": "56c35549-6960-4f23-828e-57a8c6864143"
      },
      "execution_count": 7,
      "outputs": [
        {
          "output_type": "execute_result",
          "data": {
            "text/plain": [
              "     white_wine  fixed acidity  volatile acidity  citric acid  residual sugar  \\\n",
              "0             1            7.0             0.270         0.36            20.7   \n",
              "1             1            6.3             0.300         0.34             1.6   \n",
              "2             1            8.1             0.280         0.40             6.9   \n",
              "3             1            7.2             0.230         0.32             8.5   \n",
              "4             1            7.2             0.230         0.32             8.5   \n",
              "...         ...            ...               ...          ...             ...   \n",
              "6491          0            6.8             0.620         0.08             1.9   \n",
              "6492          0            6.2             0.600         0.08             2.0   \n",
              "6494          0            6.3             0.510         0.13             2.3   \n",
              "6495          0            5.9             0.645         0.12             2.0   \n",
              "6496          0            6.0             0.310         0.47             3.6   \n",
              "\n",
              "      chlorides  free sulfur dioxide  total sulfur dioxide  density    pH  \\\n",
              "0         0.045                 45.0                 170.0  1.00100  3.00   \n",
              "1         0.049                 14.0                 132.0  0.99400  3.30   \n",
              "2         0.050                 30.0                  97.0  0.99510  3.26   \n",
              "3         0.058                 47.0                 186.0  0.99560  3.19   \n",
              "4         0.058                 47.0                 186.0  0.99560  3.19   \n",
              "...         ...                  ...                   ...      ...   ...   \n",
              "6491      0.068                 28.0                  38.0  0.99651  3.42   \n",
              "6492      0.090                 32.0                  44.0  0.99490  3.45   \n",
              "6494      0.076                 29.0                  40.0  0.99574  3.42   \n",
              "6495      0.075                 32.0                  44.0  0.99547  3.57   \n",
              "6496      0.067                 18.0                  42.0  0.99549  3.39   \n",
              "\n",
              "      sulphates  alcohol  quality  \n",
              "0          0.45      8.8        6  \n",
              "1          0.49      9.5        6  \n",
              "2          0.44     10.1        6  \n",
              "3          0.40      9.9        6  \n",
              "4          0.40      9.9        6  \n",
              "...         ...      ...      ...  \n",
              "6491       0.82      9.5        6  \n",
              "6492       0.58     10.5        5  \n",
              "6494       0.75     11.0        6  \n",
              "6495       0.71     10.2        5  \n",
              "6496       0.66     11.0        6  \n",
              "\n",
              "[6463 rows x 13 columns]"
            ],
            "text/html": [
              "\n",
              "  <div id=\"df-f4f5d432-d4d2-4f94-810f-e14043530e26\">\n",
              "    <div class=\"colab-df-container\">\n",
              "      <div>\n",
              "<style scoped>\n",
              "    .dataframe tbody tr th:only-of-type {\n",
              "        vertical-align: middle;\n",
              "    }\n",
              "\n",
              "    .dataframe tbody tr th {\n",
              "        vertical-align: top;\n",
              "    }\n",
              "\n",
              "    .dataframe thead th {\n",
              "        text-align: right;\n",
              "    }\n",
              "</style>\n",
              "<table border=\"1\" class=\"dataframe\">\n",
              "  <thead>\n",
              "    <tr style=\"text-align: right;\">\n",
              "      <th></th>\n",
              "      <th>white_wine</th>\n",
              "      <th>fixed acidity</th>\n",
              "      <th>volatile acidity</th>\n",
              "      <th>citric acid</th>\n",
              "      <th>residual sugar</th>\n",
              "      <th>chlorides</th>\n",
              "      <th>free sulfur dioxide</th>\n",
              "      <th>total sulfur dioxide</th>\n",
              "      <th>density</th>\n",
              "      <th>pH</th>\n",
              "      <th>sulphates</th>\n",
              "      <th>alcohol</th>\n",
              "      <th>quality</th>\n",
              "    </tr>\n",
              "  </thead>\n",
              "  <tbody>\n",
              "    <tr>\n",
              "      <th>0</th>\n",
              "      <td>1</td>\n",
              "      <td>7.0</td>\n",
              "      <td>0.270</td>\n",
              "      <td>0.36</td>\n",
              "      <td>20.7</td>\n",
              "      <td>0.045</td>\n",
              "      <td>45.0</td>\n",
              "      <td>170.0</td>\n",
              "      <td>1.00100</td>\n",
              "      <td>3.00</td>\n",
              "      <td>0.45</td>\n",
              "      <td>8.8</td>\n",
              "      <td>6</td>\n",
              "    </tr>\n",
              "    <tr>\n",
              "      <th>1</th>\n",
              "      <td>1</td>\n",
              "      <td>6.3</td>\n",
              "      <td>0.300</td>\n",
              "      <td>0.34</td>\n",
              "      <td>1.6</td>\n",
              "      <td>0.049</td>\n",
              "      <td>14.0</td>\n",
              "      <td>132.0</td>\n",
              "      <td>0.99400</td>\n",
              "      <td>3.30</td>\n",
              "      <td>0.49</td>\n",
              "      <td>9.5</td>\n",
              "      <td>6</td>\n",
              "    </tr>\n",
              "    <tr>\n",
              "      <th>2</th>\n",
              "      <td>1</td>\n",
              "      <td>8.1</td>\n",
              "      <td>0.280</td>\n",
              "      <td>0.40</td>\n",
              "      <td>6.9</td>\n",
              "      <td>0.050</td>\n",
              "      <td>30.0</td>\n",
              "      <td>97.0</td>\n",
              "      <td>0.99510</td>\n",
              "      <td>3.26</td>\n",
              "      <td>0.44</td>\n",
              "      <td>10.1</td>\n",
              "      <td>6</td>\n",
              "    </tr>\n",
              "    <tr>\n",
              "      <th>3</th>\n",
              "      <td>1</td>\n",
              "      <td>7.2</td>\n",
              "      <td>0.230</td>\n",
              "      <td>0.32</td>\n",
              "      <td>8.5</td>\n",
              "      <td>0.058</td>\n",
              "      <td>47.0</td>\n",
              "      <td>186.0</td>\n",
              "      <td>0.99560</td>\n",
              "      <td>3.19</td>\n",
              "      <td>0.40</td>\n",
              "      <td>9.9</td>\n",
              "      <td>6</td>\n",
              "    </tr>\n",
              "    <tr>\n",
              "      <th>4</th>\n",
              "      <td>1</td>\n",
              "      <td>7.2</td>\n",
              "      <td>0.230</td>\n",
              "      <td>0.32</td>\n",
              "      <td>8.5</td>\n",
              "      <td>0.058</td>\n",
              "      <td>47.0</td>\n",
              "      <td>186.0</td>\n",
              "      <td>0.99560</td>\n",
              "      <td>3.19</td>\n",
              "      <td>0.40</td>\n",
              "      <td>9.9</td>\n",
              "      <td>6</td>\n",
              "    </tr>\n",
              "    <tr>\n",
              "      <th>...</th>\n",
              "      <td>...</td>\n",
              "      <td>...</td>\n",
              "      <td>...</td>\n",
              "      <td>...</td>\n",
              "      <td>...</td>\n",
              "      <td>...</td>\n",
              "      <td>...</td>\n",
              "      <td>...</td>\n",
              "      <td>...</td>\n",
              "      <td>...</td>\n",
              "      <td>...</td>\n",
              "      <td>...</td>\n",
              "      <td>...</td>\n",
              "    </tr>\n",
              "    <tr>\n",
              "      <th>6491</th>\n",
              "      <td>0</td>\n",
              "      <td>6.8</td>\n",
              "      <td>0.620</td>\n",
              "      <td>0.08</td>\n",
              "      <td>1.9</td>\n",
              "      <td>0.068</td>\n",
              "      <td>28.0</td>\n",
              "      <td>38.0</td>\n",
              "      <td>0.99651</td>\n",
              "      <td>3.42</td>\n",
              "      <td>0.82</td>\n",
              "      <td>9.5</td>\n",
              "      <td>6</td>\n",
              "    </tr>\n",
              "    <tr>\n",
              "      <th>6492</th>\n",
              "      <td>0</td>\n",
              "      <td>6.2</td>\n",
              "      <td>0.600</td>\n",
              "      <td>0.08</td>\n",
              "      <td>2.0</td>\n",
              "      <td>0.090</td>\n",
              "      <td>32.0</td>\n",
              "      <td>44.0</td>\n",
              "      <td>0.99490</td>\n",
              "      <td>3.45</td>\n",
              "      <td>0.58</td>\n",
              "      <td>10.5</td>\n",
              "      <td>5</td>\n",
              "    </tr>\n",
              "    <tr>\n",
              "      <th>6494</th>\n",
              "      <td>0</td>\n",
              "      <td>6.3</td>\n",
              "      <td>0.510</td>\n",
              "      <td>0.13</td>\n",
              "      <td>2.3</td>\n",
              "      <td>0.076</td>\n",
              "      <td>29.0</td>\n",
              "      <td>40.0</td>\n",
              "      <td>0.99574</td>\n",
              "      <td>3.42</td>\n",
              "      <td>0.75</td>\n",
              "      <td>11.0</td>\n",
              "      <td>6</td>\n",
              "    </tr>\n",
              "    <tr>\n",
              "      <th>6495</th>\n",
              "      <td>0</td>\n",
              "      <td>5.9</td>\n",
              "      <td>0.645</td>\n",
              "      <td>0.12</td>\n",
              "      <td>2.0</td>\n",
              "      <td>0.075</td>\n",
              "      <td>32.0</td>\n",
              "      <td>44.0</td>\n",
              "      <td>0.99547</td>\n",
              "      <td>3.57</td>\n",
              "      <td>0.71</td>\n",
              "      <td>10.2</td>\n",
              "      <td>5</td>\n",
              "    </tr>\n",
              "    <tr>\n",
              "      <th>6496</th>\n",
              "      <td>0</td>\n",
              "      <td>6.0</td>\n",
              "      <td>0.310</td>\n",
              "      <td>0.47</td>\n",
              "      <td>3.6</td>\n",
              "      <td>0.067</td>\n",
              "      <td>18.0</td>\n",
              "      <td>42.0</td>\n",
              "      <td>0.99549</td>\n",
              "      <td>3.39</td>\n",
              "      <td>0.66</td>\n",
              "      <td>11.0</td>\n",
              "      <td>6</td>\n",
              "    </tr>\n",
              "  </tbody>\n",
              "</table>\n",
              "<p>6463 rows × 13 columns</p>\n",
              "</div>\n",
              "      <button class=\"colab-df-convert\" onclick=\"convertToInteractive('df-f4f5d432-d4d2-4f94-810f-e14043530e26')\"\n",
              "              title=\"Convert this dataframe to an interactive table.\"\n",
              "              style=\"display:none;\">\n",
              "        \n",
              "  <svg xmlns=\"http://www.w3.org/2000/svg\" height=\"24px\"viewBox=\"0 0 24 24\"\n",
              "       width=\"24px\">\n",
              "    <path d=\"M0 0h24v24H0V0z\" fill=\"none\"/>\n",
              "    <path d=\"M18.56 5.44l.94 2.06.94-2.06 2.06-.94-2.06-.94-.94-2.06-.94 2.06-2.06.94zm-11 1L8.5 8.5l.94-2.06 2.06-.94-2.06-.94L8.5 2.5l-.94 2.06-2.06.94zm10 10l.94 2.06.94-2.06 2.06-.94-2.06-.94-.94-2.06-.94 2.06-2.06.94z\"/><path d=\"M17.41 7.96l-1.37-1.37c-.4-.4-.92-.59-1.43-.59-.52 0-1.04.2-1.43.59L10.3 9.45l-7.72 7.72c-.78.78-.78 2.05 0 2.83L4 21.41c.39.39.9.59 1.41.59.51 0 1.02-.2 1.41-.59l7.78-7.78 2.81-2.81c.8-.78.8-2.07 0-2.86zM5.41 20L4 18.59l7.72-7.72 1.47 1.35L5.41 20z\"/>\n",
              "  </svg>\n",
              "      </button>\n",
              "      \n",
              "  <style>\n",
              "    .colab-df-container {\n",
              "      display:flex;\n",
              "      flex-wrap:wrap;\n",
              "      gap: 12px;\n",
              "    }\n",
              "\n",
              "    .colab-df-convert {\n",
              "      background-color: #E8F0FE;\n",
              "      border: none;\n",
              "      border-radius: 50%;\n",
              "      cursor: pointer;\n",
              "      display: none;\n",
              "      fill: #1967D2;\n",
              "      height: 32px;\n",
              "      padding: 0 0 0 0;\n",
              "      width: 32px;\n",
              "    }\n",
              "\n",
              "    .colab-df-convert:hover {\n",
              "      background-color: #E2EBFA;\n",
              "      box-shadow: 0px 1px 2px rgba(60, 64, 67, 0.3), 0px 1px 3px 1px rgba(60, 64, 67, 0.15);\n",
              "      fill: #174EA6;\n",
              "    }\n",
              "\n",
              "    [theme=dark] .colab-df-convert {\n",
              "      background-color: #3B4455;\n",
              "      fill: #D2E3FC;\n",
              "    }\n",
              "\n",
              "    [theme=dark] .colab-df-convert:hover {\n",
              "      background-color: #434B5C;\n",
              "      box-shadow: 0px 1px 3px 1px rgba(0, 0, 0, 0.15);\n",
              "      filter: drop-shadow(0px 1px 2px rgba(0, 0, 0, 0.3));\n",
              "      fill: #FFFFFF;\n",
              "    }\n",
              "  </style>\n",
              "\n",
              "      <script>\n",
              "        const buttonEl =\n",
              "          document.querySelector('#df-f4f5d432-d4d2-4f94-810f-e14043530e26 button.colab-df-convert');\n",
              "        buttonEl.style.display =\n",
              "          google.colab.kernel.accessAllowed ? 'block' : 'none';\n",
              "\n",
              "        async function convertToInteractive(key) {\n",
              "          const element = document.querySelector('#df-f4f5d432-d4d2-4f94-810f-e14043530e26');\n",
              "          const dataTable =\n",
              "            await google.colab.kernel.invokeFunction('convertToInteractive',\n",
              "                                                     [key], {});\n",
              "          if (!dataTable) return;\n",
              "\n",
              "          const docLinkHtml = 'Like what you see? Visit the ' +\n",
              "            '<a target=\"_blank\" href=https://colab.research.google.com/notebooks/data_table.ipynb>data table notebook</a>'\n",
              "            + ' to learn more about interactive tables.';\n",
              "          element.innerHTML = '';\n",
              "          dataTable['output_type'] = 'display_data';\n",
              "          await google.colab.output.renderOutput(dataTable, element);\n",
              "          const docLink = document.createElement('div');\n",
              "          docLink.innerHTML = docLinkHtml;\n",
              "          element.appendChild(docLink);\n",
              "        }\n",
              "      </script>\n",
              "    </div>\n",
              "  </div>\n",
              "  "
            ]
          },
          "metadata": {},
          "execution_count": 7
        }
      ]
    },
    {
      "cell_type": "markdown",
      "source": [
        "Change quality based on condition "
      ],
      "metadata": {
        "id": "ykdjbfQIIje8"
      }
    },
    {
      "cell_type": "code",
      "source": [
        "wine_data.loc[wine_data['quality'] <= 6, 'quality'] = 0\n",
        "wine_data.loc[wine_data['quality'] >= 7, 'quality'] = 1\n",
        "wine_data"
      ],
      "metadata": {
        "colab": {
          "base_uri": "https://localhost:8080/",
          "height": 522
        },
        "id": "OmnnmuCzI4Ks",
        "outputId": "ecd8ae8f-06f3-4804-eb46-e46f37412a43"
      },
      "execution_count": 8,
      "outputs": [
        {
          "output_type": "execute_result",
          "data": {
            "text/plain": [
              "     white_wine  fixed acidity  volatile acidity  citric acid  residual sugar  \\\n",
              "0             1            7.0             0.270         0.36            20.7   \n",
              "1             1            6.3             0.300         0.34             1.6   \n",
              "2             1            8.1             0.280         0.40             6.9   \n",
              "3             1            7.2             0.230         0.32             8.5   \n",
              "4             1            7.2             0.230         0.32             8.5   \n",
              "...         ...            ...               ...          ...             ...   \n",
              "6491          0            6.8             0.620         0.08             1.9   \n",
              "6492          0            6.2             0.600         0.08             2.0   \n",
              "6494          0            6.3             0.510         0.13             2.3   \n",
              "6495          0            5.9             0.645         0.12             2.0   \n",
              "6496          0            6.0             0.310         0.47             3.6   \n",
              "\n",
              "      chlorides  free sulfur dioxide  total sulfur dioxide  density    pH  \\\n",
              "0         0.045                 45.0                 170.0  1.00100  3.00   \n",
              "1         0.049                 14.0                 132.0  0.99400  3.30   \n",
              "2         0.050                 30.0                  97.0  0.99510  3.26   \n",
              "3         0.058                 47.0                 186.0  0.99560  3.19   \n",
              "4         0.058                 47.0                 186.0  0.99560  3.19   \n",
              "...         ...                  ...                   ...      ...   ...   \n",
              "6491      0.068                 28.0                  38.0  0.99651  3.42   \n",
              "6492      0.090                 32.0                  44.0  0.99490  3.45   \n",
              "6494      0.076                 29.0                  40.0  0.99574  3.42   \n",
              "6495      0.075                 32.0                  44.0  0.99547  3.57   \n",
              "6496      0.067                 18.0                  42.0  0.99549  3.39   \n",
              "\n",
              "      sulphates  alcohol  quality  \n",
              "0          0.45      8.8        0  \n",
              "1          0.49      9.5        0  \n",
              "2          0.44     10.1        0  \n",
              "3          0.40      9.9        0  \n",
              "4          0.40      9.9        0  \n",
              "...         ...      ...      ...  \n",
              "6491       0.82      9.5        0  \n",
              "6492       0.58     10.5        0  \n",
              "6494       0.75     11.0        0  \n",
              "6495       0.71     10.2        0  \n",
              "6496       0.66     11.0        0  \n",
              "\n",
              "[6463 rows x 13 columns]"
            ],
            "text/html": [
              "\n",
              "  <div id=\"df-1f1043de-6fb5-4e58-9fed-cbdf13568a84\">\n",
              "    <div class=\"colab-df-container\">\n",
              "      <div>\n",
              "<style scoped>\n",
              "    .dataframe tbody tr th:only-of-type {\n",
              "        vertical-align: middle;\n",
              "    }\n",
              "\n",
              "    .dataframe tbody tr th {\n",
              "        vertical-align: top;\n",
              "    }\n",
              "\n",
              "    .dataframe thead th {\n",
              "        text-align: right;\n",
              "    }\n",
              "</style>\n",
              "<table border=\"1\" class=\"dataframe\">\n",
              "  <thead>\n",
              "    <tr style=\"text-align: right;\">\n",
              "      <th></th>\n",
              "      <th>white_wine</th>\n",
              "      <th>fixed acidity</th>\n",
              "      <th>volatile acidity</th>\n",
              "      <th>citric acid</th>\n",
              "      <th>residual sugar</th>\n",
              "      <th>chlorides</th>\n",
              "      <th>free sulfur dioxide</th>\n",
              "      <th>total sulfur dioxide</th>\n",
              "      <th>density</th>\n",
              "      <th>pH</th>\n",
              "      <th>sulphates</th>\n",
              "      <th>alcohol</th>\n",
              "      <th>quality</th>\n",
              "    </tr>\n",
              "  </thead>\n",
              "  <tbody>\n",
              "    <tr>\n",
              "      <th>0</th>\n",
              "      <td>1</td>\n",
              "      <td>7.0</td>\n",
              "      <td>0.270</td>\n",
              "      <td>0.36</td>\n",
              "      <td>20.7</td>\n",
              "      <td>0.045</td>\n",
              "      <td>45.0</td>\n",
              "      <td>170.0</td>\n",
              "      <td>1.00100</td>\n",
              "      <td>3.00</td>\n",
              "      <td>0.45</td>\n",
              "      <td>8.8</td>\n",
              "      <td>0</td>\n",
              "    </tr>\n",
              "    <tr>\n",
              "      <th>1</th>\n",
              "      <td>1</td>\n",
              "      <td>6.3</td>\n",
              "      <td>0.300</td>\n",
              "      <td>0.34</td>\n",
              "      <td>1.6</td>\n",
              "      <td>0.049</td>\n",
              "      <td>14.0</td>\n",
              "      <td>132.0</td>\n",
              "      <td>0.99400</td>\n",
              "      <td>3.30</td>\n",
              "      <td>0.49</td>\n",
              "      <td>9.5</td>\n",
              "      <td>0</td>\n",
              "    </tr>\n",
              "    <tr>\n",
              "      <th>2</th>\n",
              "      <td>1</td>\n",
              "      <td>8.1</td>\n",
              "      <td>0.280</td>\n",
              "      <td>0.40</td>\n",
              "      <td>6.9</td>\n",
              "      <td>0.050</td>\n",
              "      <td>30.0</td>\n",
              "      <td>97.0</td>\n",
              "      <td>0.99510</td>\n",
              "      <td>3.26</td>\n",
              "      <td>0.44</td>\n",
              "      <td>10.1</td>\n",
              "      <td>0</td>\n",
              "    </tr>\n",
              "    <tr>\n",
              "      <th>3</th>\n",
              "      <td>1</td>\n",
              "      <td>7.2</td>\n",
              "      <td>0.230</td>\n",
              "      <td>0.32</td>\n",
              "      <td>8.5</td>\n",
              "      <td>0.058</td>\n",
              "      <td>47.0</td>\n",
              "      <td>186.0</td>\n",
              "      <td>0.99560</td>\n",
              "      <td>3.19</td>\n",
              "      <td>0.40</td>\n",
              "      <td>9.9</td>\n",
              "      <td>0</td>\n",
              "    </tr>\n",
              "    <tr>\n",
              "      <th>4</th>\n",
              "      <td>1</td>\n",
              "      <td>7.2</td>\n",
              "      <td>0.230</td>\n",
              "      <td>0.32</td>\n",
              "      <td>8.5</td>\n",
              "      <td>0.058</td>\n",
              "      <td>47.0</td>\n",
              "      <td>186.0</td>\n",
              "      <td>0.99560</td>\n",
              "      <td>3.19</td>\n",
              "      <td>0.40</td>\n",
              "      <td>9.9</td>\n",
              "      <td>0</td>\n",
              "    </tr>\n",
              "    <tr>\n",
              "      <th>...</th>\n",
              "      <td>...</td>\n",
              "      <td>...</td>\n",
              "      <td>...</td>\n",
              "      <td>...</td>\n",
              "      <td>...</td>\n",
              "      <td>...</td>\n",
              "      <td>...</td>\n",
              "      <td>...</td>\n",
              "      <td>...</td>\n",
              "      <td>...</td>\n",
              "      <td>...</td>\n",
              "      <td>...</td>\n",
              "      <td>...</td>\n",
              "    </tr>\n",
              "    <tr>\n",
              "      <th>6491</th>\n",
              "      <td>0</td>\n",
              "      <td>6.8</td>\n",
              "      <td>0.620</td>\n",
              "      <td>0.08</td>\n",
              "      <td>1.9</td>\n",
              "      <td>0.068</td>\n",
              "      <td>28.0</td>\n",
              "      <td>38.0</td>\n",
              "      <td>0.99651</td>\n",
              "      <td>3.42</td>\n",
              "      <td>0.82</td>\n",
              "      <td>9.5</td>\n",
              "      <td>0</td>\n",
              "    </tr>\n",
              "    <tr>\n",
              "      <th>6492</th>\n",
              "      <td>0</td>\n",
              "      <td>6.2</td>\n",
              "      <td>0.600</td>\n",
              "      <td>0.08</td>\n",
              "      <td>2.0</td>\n",
              "      <td>0.090</td>\n",
              "      <td>32.0</td>\n",
              "      <td>44.0</td>\n",
              "      <td>0.99490</td>\n",
              "      <td>3.45</td>\n",
              "      <td>0.58</td>\n",
              "      <td>10.5</td>\n",
              "      <td>0</td>\n",
              "    </tr>\n",
              "    <tr>\n",
              "      <th>6494</th>\n",
              "      <td>0</td>\n",
              "      <td>6.3</td>\n",
              "      <td>0.510</td>\n",
              "      <td>0.13</td>\n",
              "      <td>2.3</td>\n",
              "      <td>0.076</td>\n",
              "      <td>29.0</td>\n",
              "      <td>40.0</td>\n",
              "      <td>0.99574</td>\n",
              "      <td>3.42</td>\n",
              "      <td>0.75</td>\n",
              "      <td>11.0</td>\n",
              "      <td>0</td>\n",
              "    </tr>\n",
              "    <tr>\n",
              "      <th>6495</th>\n",
              "      <td>0</td>\n",
              "      <td>5.9</td>\n",
              "      <td>0.645</td>\n",
              "      <td>0.12</td>\n",
              "      <td>2.0</td>\n",
              "      <td>0.075</td>\n",
              "      <td>32.0</td>\n",
              "      <td>44.0</td>\n",
              "      <td>0.99547</td>\n",
              "      <td>3.57</td>\n",
              "      <td>0.71</td>\n",
              "      <td>10.2</td>\n",
              "      <td>0</td>\n",
              "    </tr>\n",
              "    <tr>\n",
              "      <th>6496</th>\n",
              "      <td>0</td>\n",
              "      <td>6.0</td>\n",
              "      <td>0.310</td>\n",
              "      <td>0.47</td>\n",
              "      <td>3.6</td>\n",
              "      <td>0.067</td>\n",
              "      <td>18.0</td>\n",
              "      <td>42.0</td>\n",
              "      <td>0.99549</td>\n",
              "      <td>3.39</td>\n",
              "      <td>0.66</td>\n",
              "      <td>11.0</td>\n",
              "      <td>0</td>\n",
              "    </tr>\n",
              "  </tbody>\n",
              "</table>\n",
              "<p>6463 rows × 13 columns</p>\n",
              "</div>\n",
              "      <button class=\"colab-df-convert\" onclick=\"convertToInteractive('df-1f1043de-6fb5-4e58-9fed-cbdf13568a84')\"\n",
              "              title=\"Convert this dataframe to an interactive table.\"\n",
              "              style=\"display:none;\">\n",
              "        \n",
              "  <svg xmlns=\"http://www.w3.org/2000/svg\" height=\"24px\"viewBox=\"0 0 24 24\"\n",
              "       width=\"24px\">\n",
              "    <path d=\"M0 0h24v24H0V0z\" fill=\"none\"/>\n",
              "    <path d=\"M18.56 5.44l.94 2.06.94-2.06 2.06-.94-2.06-.94-.94-2.06-.94 2.06-2.06.94zm-11 1L8.5 8.5l.94-2.06 2.06-.94-2.06-.94L8.5 2.5l-.94 2.06-2.06.94zm10 10l.94 2.06.94-2.06 2.06-.94-2.06-.94-.94-2.06-.94 2.06-2.06.94z\"/><path d=\"M17.41 7.96l-1.37-1.37c-.4-.4-.92-.59-1.43-.59-.52 0-1.04.2-1.43.59L10.3 9.45l-7.72 7.72c-.78.78-.78 2.05 0 2.83L4 21.41c.39.39.9.59 1.41.59.51 0 1.02-.2 1.41-.59l7.78-7.78 2.81-2.81c.8-.78.8-2.07 0-2.86zM5.41 20L4 18.59l7.72-7.72 1.47 1.35L5.41 20z\"/>\n",
              "  </svg>\n",
              "      </button>\n",
              "      \n",
              "  <style>\n",
              "    .colab-df-container {\n",
              "      display:flex;\n",
              "      flex-wrap:wrap;\n",
              "      gap: 12px;\n",
              "    }\n",
              "\n",
              "    .colab-df-convert {\n",
              "      background-color: #E8F0FE;\n",
              "      border: none;\n",
              "      border-radius: 50%;\n",
              "      cursor: pointer;\n",
              "      display: none;\n",
              "      fill: #1967D2;\n",
              "      height: 32px;\n",
              "      padding: 0 0 0 0;\n",
              "      width: 32px;\n",
              "    }\n",
              "\n",
              "    .colab-df-convert:hover {\n",
              "      background-color: #E2EBFA;\n",
              "      box-shadow: 0px 1px 2px rgba(60, 64, 67, 0.3), 0px 1px 3px 1px rgba(60, 64, 67, 0.15);\n",
              "      fill: #174EA6;\n",
              "    }\n",
              "\n",
              "    [theme=dark] .colab-df-convert {\n",
              "      background-color: #3B4455;\n",
              "      fill: #D2E3FC;\n",
              "    }\n",
              "\n",
              "    [theme=dark] .colab-df-convert:hover {\n",
              "      background-color: #434B5C;\n",
              "      box-shadow: 0px 1px 3px 1px rgba(0, 0, 0, 0.15);\n",
              "      filter: drop-shadow(0px 1px 2px rgba(0, 0, 0, 0.3));\n",
              "      fill: #FFFFFF;\n",
              "    }\n",
              "  </style>\n",
              "\n",
              "      <script>\n",
              "        const buttonEl =\n",
              "          document.querySelector('#df-1f1043de-6fb5-4e58-9fed-cbdf13568a84 button.colab-df-convert');\n",
              "        buttonEl.style.display =\n",
              "          google.colab.kernel.accessAllowed ? 'block' : 'none';\n",
              "\n",
              "        async function convertToInteractive(key) {\n",
              "          const element = document.querySelector('#df-1f1043de-6fb5-4e58-9fed-cbdf13568a84');\n",
              "          const dataTable =\n",
              "            await google.colab.kernel.invokeFunction('convertToInteractive',\n",
              "                                                     [key], {});\n",
              "          if (!dataTable) return;\n",
              "\n",
              "          const docLinkHtml = 'Like what you see? Visit the ' +\n",
              "            '<a target=\"_blank\" href=https://colab.research.google.com/notebooks/data_table.ipynb>data table notebook</a>'\n",
              "            + ' to learn more about interactive tables.';\n",
              "          element.innerHTML = '';\n",
              "          dataTable['output_type'] = 'display_data';\n",
              "          await google.colab.output.renderOutput(dataTable, element);\n",
              "          const docLink = document.createElement('div');\n",
              "          docLink.innerHTML = docLinkHtml;\n",
              "          element.appendChild(docLink);\n",
              "        }\n",
              "      </script>\n",
              "    </div>\n",
              "  </div>\n",
              "  "
            ]
          },
          "metadata": {},
          "execution_count": 8
        }
      ]
    },
    {
      "cell_type": "markdown",
      "source": [
        "How many good wines?"
      ],
      "metadata": {
        "id": "W743DJ9LJQwF"
      }
    },
    {
      "cell_type": "code",
      "source": [
        "(wine_data['quality'] == 1).sum()"
      ],
      "metadata": {
        "colab": {
          "base_uri": "https://localhost:8080/"
        },
        "id": "HkJDYQcNJh62",
        "outputId": "17b571db-ed6a-4973-becf-3330ea7a04f6"
      },
      "execution_count": 9,
      "outputs": [
        {
          "output_type": "execute_result",
          "data": {
            "text/plain": [
              "1271"
            ]
          },
          "metadata": {},
          "execution_count": 9
        }
      ]
    },
    {
      "cell_type": "markdown",
      "source": [
        "Normalize Data"
      ],
      "metadata": {
        "id": "iX0tq-z-JnMb"
      }
    },
    {
      "cell_type": "code",
      "source": [
        "ct = make_column_transformer(\n",
        "    (MinMaxScaler(),['fixed acidity', 'fixed acidity', 'volatile acidity', 'citric acid',\n",
        "       'residual sugar', 'chlorides', 'free sulfur dioxide',\n",
        "       'total sulfur dioxide', 'density', 'pH', 'sulphates', 'alcohol'])\n",
        ")"
      ],
      "metadata": {
        "id": "vLjg1oKGJtPC"
      },
      "execution_count": 10,
      "outputs": []
    },
    {
      "cell_type": "markdown",
      "source": [
        "Separate Features and labels"
      ],
      "metadata": {
        "id": "uYRF9lJFKTPM"
      }
    },
    {
      "cell_type": "code",
      "source": [
        "X = wine_data.drop('quality', axis = 1) #Features\n",
        "y = wine_data['quality'] #label"
      ],
      "metadata": {
        "id": "pGu7MiSFKptA"
      },
      "execution_count": 11,
      "outputs": []
    },
    {
      "cell_type": "markdown",
      "source": [
        "Train test split"
      ],
      "metadata": {
        "id": "kDeKaHZvK-VD"
      }
    },
    {
      "cell_type": "code",
      "source": [
        "X_train, X_test, y_train, y_test = train_test_split(X,y, test_size = 0.2,\n",
        "                                                    random_state = 66)"
      ],
      "metadata": {
        "id": "0StEm4_vLDYX"
      },
      "execution_count": 12,
      "outputs": []
    },
    {
      "cell_type": "markdown",
      "source": [
        "Transform training and test data "
      ],
      "metadata": {
        "id": "cdUmWYC0La4P"
      }
    },
    {
      "cell_type": "code",
      "source": [
        "ct.fit(X_train)\n",
        "X_train_normal = ct.transform(X_train)\n",
        "X_test_normal = ct.transform(X_test)"
      ],
      "metadata": {
        "id": "oXmzUkTkLemR"
      },
      "execution_count": 26,
      "outputs": []
    },
    {
      "cell_type": "markdown",
      "source": [
        "### Build model"
      ],
      "metadata": {
        "id": "K7A3Bg6TL3Qr"
      }
    },
    {
      "cell_type": "code",
      "source": [
        "tf.random.set_seed(66)\n",
        "\n",
        "model_1 = tf.keras.Sequential([\n",
        "    tf.keras.layers.Dense(4, activation = tf.keras.activations.relu),\n",
        "    tf.keras.layers.Dense(4, activation = tf.keras.activations.relu),\n",
        "    tf.keras.layers.Dense(1, activation = tf.keras.activations.relu),\n",
        "])\n",
        "\n",
        "model_1.compile(loss = tf.keras.losses.binary_crossentropy,\n",
        "                optimizer = tf.keras.optimizers.Adam(),\n",
        "                metrics = ['accuracy'])\n",
        "\n",
        "history = model_1.fit(X_train_normal, y_train, epochs = 100)"
      ],
      "metadata": {
        "colab": {
          "base_uri": "https://localhost:8080/"
        },
        "id": "NphJDKxQMH6U",
        "outputId": "2167c6b5-f202-4b09-8db9-bfdcad857432"
      },
      "execution_count": 14,
      "outputs": [
        {
          "output_type": "stream",
          "name": "stdout",
          "text": [
            "Epoch 1/100\n",
            "162/162 [==============================] - 3s 5ms/step - loss: 0.4514 - accuracy: 0.8056\n",
            "Epoch 2/100\n",
            "162/162 [==============================] - 1s 3ms/step - loss: 0.4299 - accuracy: 0.8054\n",
            "Epoch 3/100\n",
            "162/162 [==============================] - 1s 3ms/step - loss: 0.4166 - accuracy: 0.8054\n",
            "Epoch 4/100\n",
            "162/162 [==============================] - 1s 5ms/step - loss: 0.4099 - accuracy: 0.8052\n",
            "Epoch 5/100\n",
            "162/162 [==============================] - 1s 4ms/step - loss: 0.4086 - accuracy: 0.8070\n",
            "Epoch 6/100\n",
            "162/162 [==============================] - 1s 4ms/step - loss: 0.4056 - accuracy: 0.8081\n",
            "Epoch 7/100\n",
            "162/162 [==============================] - 1s 3ms/step - loss: 0.4013 - accuracy: 0.8104\n",
            "Epoch 8/100\n",
            "162/162 [==============================] - 1s 3ms/step - loss: 0.4069 - accuracy: 0.8132\n",
            "Epoch 9/100\n",
            "162/162 [==============================] - 1s 5ms/step - loss: 0.4171 - accuracy: 0.8128\n",
            "Epoch 10/100\n",
            "162/162 [==============================] - 1s 3ms/step - loss: 0.4101 - accuracy: 0.8089\n",
            "Epoch 11/100\n",
            "162/162 [==============================] - 0s 3ms/step - loss: 0.4034 - accuracy: 0.8079\n",
            "Epoch 12/100\n",
            "162/162 [==============================] - 1s 5ms/step - loss: 0.4021 - accuracy: 0.8068\n",
            "Epoch 13/100\n",
            "162/162 [==============================] - 1s 6ms/step - loss: 0.4009 - accuracy: 0.8087\n",
            "Epoch 14/100\n",
            "162/162 [==============================] - 1s 5ms/step - loss: 0.4000 - accuracy: 0.8093\n",
            "Epoch 15/100\n",
            "162/162 [==============================] - 1s 8ms/step - loss: 0.3995 - accuracy: 0.8093\n",
            "Epoch 16/100\n",
            "162/162 [==============================] - 1s 5ms/step - loss: 0.3989 - accuracy: 0.8110\n",
            "Epoch 17/100\n",
            "162/162 [==============================] - 1s 6ms/step - loss: 0.3982 - accuracy: 0.8112\n",
            "Epoch 18/100\n",
            "162/162 [==============================] - 1s 6ms/step - loss: 0.3984 - accuracy: 0.8116\n",
            "Epoch 19/100\n",
            "162/162 [==============================] - 1s 6ms/step - loss: 0.3978 - accuracy: 0.8114\n",
            "Epoch 20/100\n",
            "162/162 [==============================] - 1s 6ms/step - loss: 0.3972 - accuracy: 0.8128\n",
            "Epoch 21/100\n",
            "162/162 [==============================] - 1s 5ms/step - loss: 0.3966 - accuracy: 0.8120\n",
            "Epoch 22/100\n",
            "162/162 [==============================] - 1s 6ms/step - loss: 0.3967 - accuracy: 0.8116\n",
            "Epoch 23/100\n",
            "162/162 [==============================] - 1s 6ms/step - loss: 0.3966 - accuracy: 0.8122\n",
            "Epoch 24/100\n",
            "162/162 [==============================] - 1s 8ms/step - loss: 0.3965 - accuracy: 0.8118\n",
            "Epoch 25/100\n",
            "162/162 [==============================] - 1s 6ms/step - loss: 0.3965 - accuracy: 0.8112\n",
            "Epoch 26/100\n",
            "162/162 [==============================] - 1s 5ms/step - loss: 0.3957 - accuracy: 0.8114\n",
            "Epoch 27/100\n",
            "162/162 [==============================] - 1s 6ms/step - loss: 0.3955 - accuracy: 0.8126\n",
            "Epoch 28/100\n",
            "162/162 [==============================] - 1s 6ms/step - loss: 0.3957 - accuracy: 0.8124\n",
            "Epoch 29/100\n",
            "162/162 [==============================] - 1s 4ms/step - loss: 0.3977 - accuracy: 0.8108\n",
            "Epoch 30/100\n",
            "162/162 [==============================] - 1s 4ms/step - loss: 0.3952 - accuracy: 0.8122\n",
            "Epoch 31/100\n",
            "162/162 [==============================] - 1s 7ms/step - loss: 0.3994 - accuracy: 0.8122\n",
            "Epoch 32/100\n",
            "162/162 [==============================] - 1s 7ms/step - loss: 0.3948 - accuracy: 0.8141\n",
            "Epoch 33/100\n",
            "162/162 [==============================] - 1s 8ms/step - loss: 0.3969 - accuracy: 0.8128\n",
            "Epoch 34/100\n",
            "162/162 [==============================] - 1s 6ms/step - loss: 0.3945 - accuracy: 0.8133\n",
            "Epoch 35/100\n",
            "162/162 [==============================] - 1s 6ms/step - loss: 0.3961 - accuracy: 0.8130\n",
            "Epoch 36/100\n",
            "162/162 [==============================] - 1s 4ms/step - loss: 0.3955 - accuracy: 0.8145\n",
            "Epoch 37/100\n",
            "162/162 [==============================] - 1s 5ms/step - loss: 0.4002 - accuracy: 0.8145\n",
            "Epoch 38/100\n",
            "162/162 [==============================] - 1s 5ms/step - loss: 0.3942 - accuracy: 0.8120\n",
            "Epoch 39/100\n",
            "162/162 [==============================] - 1s 7ms/step - loss: 0.3949 - accuracy: 0.8137\n",
            "Epoch 40/100\n",
            "162/162 [==============================] - 1s 7ms/step - loss: 0.3955 - accuracy: 0.8124\n",
            "Epoch 41/100\n",
            "162/162 [==============================] - 1s 6ms/step - loss: 0.3974 - accuracy: 0.8120\n",
            "Epoch 42/100\n",
            "162/162 [==============================] - 1s 8ms/step - loss: 0.3939 - accuracy: 0.8133\n",
            "Epoch 43/100\n",
            "162/162 [==============================] - 1s 6ms/step - loss: 0.3935 - accuracy: 0.8141\n",
            "Epoch 44/100\n",
            "162/162 [==============================] - 1s 8ms/step - loss: 0.3933 - accuracy: 0.8139\n",
            "Epoch 45/100\n",
            "162/162 [==============================] - 1s 9ms/step - loss: 0.3924 - accuracy: 0.8139\n",
            "Epoch 46/100\n",
            "162/162 [==============================] - 1s 5ms/step - loss: 0.3951 - accuracy: 0.8147\n",
            "Epoch 47/100\n",
            "162/162 [==============================] - 1s 4ms/step - loss: 0.3942 - accuracy: 0.8137\n",
            "Epoch 48/100\n",
            "162/162 [==============================] - 1s 6ms/step - loss: 0.3930 - accuracy: 0.8157\n",
            "Epoch 49/100\n",
            "162/162 [==============================] - 1s 6ms/step - loss: 0.3974 - accuracy: 0.8157\n",
            "Epoch 50/100\n",
            "162/162 [==============================] - 1s 6ms/step - loss: 0.3925 - accuracy: 0.8145\n",
            "Epoch 51/100\n",
            "162/162 [==============================] - 1s 6ms/step - loss: 0.3920 - accuracy: 0.8133\n",
            "Epoch 52/100\n",
            "162/162 [==============================] - 1s 8ms/step - loss: 0.4035 - accuracy: 0.8172\n",
            "Epoch 53/100\n",
            "162/162 [==============================] - 1s 4ms/step - loss: 0.3924 - accuracy: 0.8118\n",
            "Epoch 54/100\n",
            "162/162 [==============================] - 1s 3ms/step - loss: 0.3918 - accuracy: 0.8143\n",
            "Epoch 55/100\n",
            "162/162 [==============================] - 1s 5ms/step - loss: 0.3930 - accuracy: 0.8147\n",
            "Epoch 56/100\n",
            "162/162 [==============================] - 1s 5ms/step - loss: 0.3932 - accuracy: 0.8143\n",
            "Epoch 57/100\n",
            "162/162 [==============================] - 1s 4ms/step - loss: 0.3929 - accuracy: 0.8153\n",
            "Epoch 58/100\n",
            "162/162 [==============================] - 1s 3ms/step - loss: 0.3944 - accuracy: 0.8162\n",
            "Epoch 59/100\n",
            "162/162 [==============================] - 1s 5ms/step - loss: 0.3910 - accuracy: 0.8180\n",
            "Epoch 60/100\n",
            "162/162 [==============================] - 1s 4ms/step - loss: 0.3925 - accuracy: 0.8172\n",
            "Epoch 61/100\n",
            "162/162 [==============================] - 1s 3ms/step - loss: 0.3909 - accuracy: 0.8172\n",
            "Epoch 62/100\n",
            "162/162 [==============================] - 1s 5ms/step - loss: 0.3916 - accuracy: 0.8162\n",
            "Epoch 63/100\n",
            "162/162 [==============================] - 0s 2ms/step - loss: 0.3941 - accuracy: 0.8151\n",
            "Epoch 64/100\n",
            "162/162 [==============================] - 0s 2ms/step - loss: 0.3940 - accuracy: 0.8180\n",
            "Epoch 65/100\n",
            "162/162 [==============================] - 0s 2ms/step - loss: 0.3927 - accuracy: 0.8190\n",
            "Epoch 66/100\n",
            "162/162 [==============================] - 0s 2ms/step - loss: 0.3944 - accuracy: 0.8176\n",
            "Epoch 67/100\n",
            "162/162 [==============================] - 0s 2ms/step - loss: 0.3905 - accuracy: 0.8182\n",
            "Epoch 68/100\n",
            "162/162 [==============================] - 0s 2ms/step - loss: 0.3940 - accuracy: 0.8182\n",
            "Epoch 69/100\n",
            "162/162 [==============================] - 0s 2ms/step - loss: 0.3942 - accuracy: 0.8176\n",
            "Epoch 70/100\n",
            "162/162 [==============================] - 0s 2ms/step - loss: 0.3923 - accuracy: 0.8164\n",
            "Epoch 71/100\n",
            "162/162 [==============================] - 0s 2ms/step - loss: 0.3924 - accuracy: 0.8184\n",
            "Epoch 72/100\n",
            "162/162 [==============================] - 0s 2ms/step - loss: 0.3931 - accuracy: 0.8205\n",
            "Epoch 73/100\n",
            "162/162 [==============================] - 0s 2ms/step - loss: 0.3924 - accuracy: 0.8213\n",
            "Epoch 74/100\n",
            "162/162 [==============================] - 0s 2ms/step - loss: 0.3919 - accuracy: 0.8180\n",
            "Epoch 75/100\n",
            "162/162 [==============================] - 0s 2ms/step - loss: 0.3915 - accuracy: 0.8191\n",
            "Epoch 76/100\n",
            "162/162 [==============================] - 0s 2ms/step - loss: 0.3914 - accuracy: 0.8222\n",
            "Epoch 77/100\n",
            "162/162 [==============================] - 0s 2ms/step - loss: 0.3911 - accuracy: 0.8201\n",
            "Epoch 78/100\n",
            "162/162 [==============================] - 0s 2ms/step - loss: 0.3909 - accuracy: 0.8211\n",
            "Epoch 79/100\n",
            "162/162 [==============================] - 0s 2ms/step - loss: 0.3906 - accuracy: 0.8205\n",
            "Epoch 80/100\n",
            "162/162 [==============================] - 0s 2ms/step - loss: 0.3906 - accuracy: 0.8197\n",
            "Epoch 81/100\n",
            "162/162 [==============================] - 0s 2ms/step - loss: 0.3978 - accuracy: 0.8193\n",
            "Epoch 82/100\n",
            "162/162 [==============================] - 0s 2ms/step - loss: 0.3951 - accuracy: 0.8211\n",
            "Epoch 83/100\n",
            "162/162 [==============================] - 0s 2ms/step - loss: 0.3892 - accuracy: 0.8215\n",
            "Epoch 84/100\n",
            "162/162 [==============================] - 0s 2ms/step - loss: 0.3896 - accuracy: 0.8197\n",
            "Epoch 85/100\n",
            "162/162 [==============================] - 0s 2ms/step - loss: 0.3890 - accuracy: 0.8195\n",
            "Epoch 86/100\n",
            "162/162 [==============================] - 0s 2ms/step - loss: 0.3881 - accuracy: 0.8207\n",
            "Epoch 87/100\n",
            "162/162 [==============================] - 0s 2ms/step - loss: 0.3936 - accuracy: 0.8176\n",
            "Epoch 88/100\n",
            "162/162 [==============================] - 0s 2ms/step - loss: 0.3984 - accuracy: 0.8205\n",
            "Epoch 89/100\n",
            "162/162 [==============================] - 0s 2ms/step - loss: 0.3984 - accuracy: 0.8166\n",
            "Epoch 90/100\n",
            "162/162 [==============================] - 0s 2ms/step - loss: 0.3923 - accuracy: 0.8178\n",
            "Epoch 91/100\n",
            "162/162 [==============================] - 0s 2ms/step - loss: 0.3889 - accuracy: 0.8188\n",
            "Epoch 92/100\n",
            "162/162 [==============================] - 0s 2ms/step - loss: 0.3885 - accuracy: 0.8199\n",
            "Epoch 93/100\n",
            "162/162 [==============================] - 0s 2ms/step - loss: 0.3881 - accuracy: 0.8190\n",
            "Epoch 94/100\n",
            "162/162 [==============================] - 0s 2ms/step - loss: 0.3883 - accuracy: 0.8193\n",
            "Epoch 95/100\n",
            "162/162 [==============================] - 0s 2ms/step - loss: 0.3876 - accuracy: 0.8186\n",
            "Epoch 96/100\n",
            "162/162 [==============================] - 0s 2ms/step - loss: 0.3870 - accuracy: 0.8190\n",
            "Epoch 97/100\n",
            "162/162 [==============================] - 0s 2ms/step - loss: 0.3869 - accuracy: 0.8193\n",
            "Epoch 98/100\n",
            "162/162 [==============================] - 0s 2ms/step - loss: 0.3884 - accuracy: 0.8209\n",
            "Epoch 99/100\n",
            "162/162 [==============================] - 0s 2ms/step - loss: 0.3863 - accuracy: 0.8195\n",
            "Epoch 100/100\n",
            "162/162 [==============================] - 0s 2ms/step - loss: 0.3863 - accuracy: 0.8205\n"
          ]
        }
      ]
    },
    {
      "cell_type": "code",
      "source": [
        "model_1.evaluate(X_train_normal, y_train)"
      ],
      "metadata": {
        "colab": {
          "base_uri": "https://localhost:8080/"
        },
        "id": "a8aKimrMKGoS",
        "outputId": "4750f702-d384-4e63-f4bf-4feb65f1a1b4"
      },
      "execution_count": 15,
      "outputs": [
        {
          "output_type": "stream",
          "name": "stdout",
          "text": [
            "162/162 [==============================] - 1s 3ms/step - loss: 0.3891 - accuracy: 0.8184\n"
          ]
        },
        {
          "output_type": "execute_result",
          "data": {
            "text/plain": [
              "[0.38914090394973755, 0.8183752298355103]"
            ]
          },
          "metadata": {},
          "execution_count": 15
        }
      ]
    },
    {
      "cell_type": "markdown",
      "source": [
        "Correlation Matrix"
      ],
      "metadata": {
        "id": "Lv6YkfNRNdzB"
      }
    },
    {
      "cell_type": "code",
      "source": [
        "plt.figure(figsize = (30,20))\n",
        "sns.heatmap(wine_data.corr().abs(), annot = True, square = True)"
      ],
      "metadata": {
        "colab": {
          "base_uri": "https://localhost:8080/",
          "height": 605
        },
        "id": "LEHOeDrjNxoq",
        "outputId": "c8ff760f-2ee0-4a6c-f1d1-30cd0bee8fcc"
      },
      "execution_count": 16,
      "outputs": [
        {
          "output_type": "execute_result",
          "data": {
            "text/plain": [
              "<matplotlib.axes._subplots.AxesSubplot at 0x7f2548386050>"
            ]
          },
          "metadata": {},
          "execution_count": 16
        },
        {
          "output_type": "display_data",
          "data": {
            "text/plain": [
              "<Figure size 2160x1440 with 2 Axes>"
            ],
            "image/png": "[encoded data removed]"
          },
          "metadata": {
            "needs_background": "light"
          }
        }
      ]
    },
    {
      "cell_type": "markdown",
      "source": [
        "Plot Loss Curve"
      ],
      "metadata": {
        "id": "1RjxK5x-Of3g"
      }
    },
    {
      "cell_type": "code",
      "source": [
        "pd.DataFrame(history.history).plot()\n",
        "plt.title('Model 1 Loss Curve')"
      ],
      "metadata": {
        "colab": {
          "base_uri": "https://localhost:8080/",
          "height": 298
        },
        "id": "GbjlFxpCPGAN",
        "outputId": "5847d592-4389-4fa9-d132-f59df12e0884"
      },
      "execution_count": 17,
      "outputs": [
        {
          "output_type": "execute_result",
          "data": {
            "text/plain": [
              "Text(0.5, 1.0, 'Model 1 Loss Curve')"
            ]
          },
          "metadata": {},
          "execution_count": 17
        },
        {
          "output_type": "display_data",
          "data": {
            "text/plain": [
              "<Figure size 432x288 with 1 Axes>"
            ],
            "image/png": "[encoded data removed]"
          },
          "metadata": {
            "needs_background": "light"
          }
        }
      ]
    },
    {
      "cell_type": "markdown",
      "source": [
        "Use call back to find ideal learning rate"
      ],
      "metadata": {
        "id": "7dVORP-KPQwc"
      }
    },
    {
      "cell_type": "code",
      "source": [
        "# Create model to fit on the training data and test on testing data\n",
        "tf.random.set_seed(66)\n",
        "\n",
        "model_2 = tf.keras.Sequential([\n",
        "    tf.keras.layers.Dense(4, activation=\"relu\"),\n",
        "    tf.keras.layers.Dense(4, activation=\"relu\"),\n",
        "    tf.keras.layers.Dense(1, activation=\"relu\")\n",
        "])\n",
        "\n",
        "model_2.compile(loss=\"binary_crossentropy\",\n",
        "optimizer=\"Adam\",\n",
        "metrics=[\"accuracy\"])\n",
        "\n",
        "# The callback works during model training\n",
        "# At each epoch if we change the learning rate and the \n",
        "# schedular is going to give Adam the updated learning rate\n",
        "\n",
        "# The learning rate starts at 1e-4 (.0001) and after each epoch \n",
        "# increase the learning rate 10^(epoch/20)\n",
        "scheduler = tf.keras.callbacks.LearningRateScheduler(lambda epoch: 1e-4 * 10**(epoch/20))\n",
        "\n",
        "history_lr = model_2.fit(X_train_normal, y_train, \n",
        "epochs=100,\n",
        "callbacks=[scheduler]) # You can have multiple callbacks"
      ],
      "metadata": {
        "colab": {
          "base_uri": "https://localhost:8080/"
        },
        "id": "7VJ4ClLbS2od",
        "outputId": "587dcbb6-443c-4e48-c5f5-6cf462b5b5ff"
      },
      "execution_count": 23,
      "outputs": [
        {
          "output_type": "stream",
          "name": "stdout",
          "text": [
            "Epoch 1/100\n",
            "162/162 [==============================] - 2s 4ms/step - loss: 0.4741 - accuracy: 0.8056 - lr: 1.0000e-04\n",
            "Epoch 2/100\n",
            "162/162 [==============================] - 0s 2ms/step - loss: 0.4616 - accuracy: 0.8056 - lr: 1.1220e-04\n",
            "Epoch 3/100\n",
            "162/162 [==============================] - 0s 2ms/step - loss: 0.4561 - accuracy: 0.8056 - lr: 1.2589e-04\n",
            "Epoch 4/100\n",
            "162/162 [==============================] - 0s 2ms/step - loss: 0.4519 - accuracy: 0.8054 - lr: 1.4125e-04\n",
            "Epoch 5/100\n",
            "162/162 [==============================] - 0s 2ms/step - loss: 0.4482 - accuracy: 0.8054 - lr: 1.5849e-04\n",
            "Epoch 6/100\n",
            "162/162 [==============================] - 0s 2ms/step - loss: 0.4447 - accuracy: 0.8054 - lr: 1.7783e-04\n",
            "Epoch 7/100\n",
            "162/162 [==============================] - 0s 2ms/step - loss: 0.4410 - accuracy: 0.8054 - lr: 1.9953e-04\n",
            "Epoch 8/100\n",
            "162/162 [==============================] - 0s 2ms/step - loss: 0.4369 - accuracy: 0.8054 - lr: 2.2387e-04\n",
            "Epoch 9/100\n",
            "162/162 [==============================] - 0s 2ms/step - loss: 0.4327 - accuracy: 0.8054 - lr: 2.5119e-04\n",
            "Epoch 10/100\n",
            "162/162 [==============================] - 0s 2ms/step - loss: 0.4250 - accuracy: 0.8054 - lr: 2.8184e-04\n",
            "Epoch 11/100\n",
            "162/162 [==============================] - 0s 2ms/step - loss: 0.4194 - accuracy: 0.8052 - lr: 3.1623e-04\n",
            "Epoch 12/100\n",
            "162/162 [==============================] - 0s 2ms/step - loss: 0.4167 - accuracy: 0.8054 - lr: 3.5481e-04\n",
            "Epoch 13/100\n",
            "162/162 [==============================] - 0s 2ms/step - loss: 0.4171 - accuracy: 0.8054 - lr: 3.9811e-04\n",
            "Epoch 14/100\n",
            "162/162 [==============================] - 0s 2ms/step - loss: 0.4159 - accuracy: 0.8054 - lr: 4.4668e-04\n",
            "Epoch 15/100\n",
            "162/162 [==============================] - 0s 2ms/step - loss: 0.4149 - accuracy: 0.8054 - lr: 5.0119e-04\n",
            "Epoch 16/100\n",
            "162/162 [==============================] - 0s 2ms/step - loss: 0.4156 - accuracy: 0.8052 - lr: 5.6234e-04\n",
            "Epoch 17/100\n",
            "162/162 [==============================] - 0s 2ms/step - loss: 0.4142 - accuracy: 0.8052 - lr: 6.3096e-04\n",
            "Epoch 18/100\n",
            "162/162 [==============================] - 0s 2ms/step - loss: 0.4133 - accuracy: 0.8056 - lr: 7.0795e-04\n",
            "Epoch 19/100\n",
            "162/162 [==============================] - 0s 2ms/step - loss: 0.4120 - accuracy: 0.8058 - lr: 7.9433e-04\n",
            "Epoch 20/100\n",
            "162/162 [==============================] - 0s 2ms/step - loss: 0.4136 - accuracy: 0.8052 - lr: 8.9125e-04\n",
            "Epoch 21/100\n",
            "162/162 [==============================] - 0s 2ms/step - loss: 0.4112 - accuracy: 0.8054 - lr: 0.0010\n",
            "Epoch 22/100\n",
            "162/162 [==============================] - 0s 2ms/step - loss: 0.4094 - accuracy: 0.8052 - lr: 0.0011\n",
            "Epoch 23/100\n",
            "162/162 [==============================] - 0s 2ms/step - loss: 0.4085 - accuracy: 0.8052 - lr: 0.0013\n",
            "Epoch 24/100\n",
            "162/162 [==============================] - 0s 2ms/step - loss: 0.4080 - accuracy: 0.8062 - lr: 0.0014\n",
            "Epoch 25/100\n",
            "162/162 [==============================] - 0s 2ms/step - loss: 0.4075 - accuracy: 0.8075 - lr: 0.0016\n",
            "Epoch 26/100\n",
            "162/162 [==============================] - 0s 2ms/step - loss: 0.4065 - accuracy: 0.8077 - lr: 0.0018\n",
            "Epoch 27/100\n",
            "162/162 [==============================] - 0s 2ms/step - loss: 0.4076 - accuracy: 0.8075 - lr: 0.0020\n",
            "Epoch 28/100\n",
            "162/162 [==============================] - 0s 2ms/step - loss: 0.4140 - accuracy: 0.8085 - lr: 0.0022\n",
            "Epoch 29/100\n",
            "162/162 [==============================] - 0s 2ms/step - loss: 0.4059 - accuracy: 0.8087 - lr: 0.0025\n",
            "Epoch 30/100\n",
            "162/162 [==============================] - 0s 2ms/step - loss: 0.4061 - accuracy: 0.8081 - lr: 0.0028\n",
            "Epoch 31/100\n",
            "162/162 [==============================] - 0s 2ms/step - loss: 0.4147 - accuracy: 0.8087 - lr: 0.0032\n",
            "Epoch 32/100\n",
            "162/162 [==============================] - 0s 2ms/step - loss: 0.4097 - accuracy: 0.8056 - lr: 0.0035\n",
            "Epoch 33/100\n",
            "162/162 [==============================] - 0s 2ms/step - loss: 0.4034 - accuracy: 0.8062 - lr: 0.0040\n",
            "Epoch 34/100\n",
            "162/162 [==============================] - 0s 2ms/step - loss: 0.4037 - accuracy: 0.8095 - lr: 0.0045\n",
            "Epoch 35/100\n",
            "162/162 [==============================] - 0s 2ms/step - loss: 0.4188 - accuracy: 0.8114 - lr: 0.0050\n",
            "Epoch 36/100\n",
            "162/162 [==============================] - 0s 2ms/step - loss: 0.4094 - accuracy: 0.8106 - lr: 0.0056\n",
            "Epoch 37/100\n",
            "162/162 [==============================] - 0s 2ms/step - loss: 0.4023 - accuracy: 0.8120 - lr: 0.0063\n",
            "Epoch 38/100\n",
            "162/162 [==============================] - 0s 2ms/step - loss: 0.4086 - accuracy: 0.8151 - lr: 0.0071\n",
            "Epoch 39/100\n",
            "162/162 [==============================] - 0s 2ms/step - loss: 0.4115 - accuracy: 0.8108 - lr: 0.0079\n",
            "Epoch 40/100\n",
            "162/162 [==============================] - 0s 2ms/step - loss: 0.4057 - accuracy: 0.8139 - lr: 0.0089\n",
            "Epoch 41/100\n",
            "162/162 [==============================] - 0s 2ms/step - loss: 0.4165 - accuracy: 0.8135 - lr: 0.0100\n",
            "Epoch 42/100\n",
            "162/162 [==============================] - 0s 2ms/step - loss: 0.4236 - accuracy: 0.8074 - lr: 0.0112\n",
            "Epoch 43/100\n",
            "162/162 [==============================] - 0s 2ms/step - loss: 0.4232 - accuracy: 0.8062 - lr: 0.0126\n",
            "Epoch 44/100\n",
            "162/162 [==============================] - 0s 2ms/step - loss: 0.4248 - accuracy: 0.8093 - lr: 0.0141\n",
            "Epoch 45/100\n",
            "162/162 [==============================] - 0s 2ms/step - loss: 0.6522 - accuracy: 0.7822 - lr: 0.0158\n",
            "Epoch 46/100\n",
            "162/162 [==============================] - 0s 2ms/step - loss: 0.4927 - accuracy: 0.8056 - lr: 0.0178\n",
            "Epoch 47/100\n",
            "162/162 [==============================] - 0s 2ms/step - loss: 0.4929 - accuracy: 0.8056 - lr: 0.0200\n",
            "Epoch 48/100\n",
            "162/162 [==============================] - 0s 2ms/step - loss: 0.4931 - accuracy: 0.8056 - lr: 0.0224\n",
            "Epoch 49/100\n",
            "162/162 [==============================] - 0s 2ms/step - loss: 0.4933 - accuracy: 0.8056 - lr: 0.0251\n",
            "Epoch 50/100\n",
            "162/162 [==============================] - 0s 2ms/step - loss: 0.4932 - accuracy: 0.8056 - lr: 0.0282\n",
            "Epoch 51/100\n",
            "162/162 [==============================] - 0s 2ms/step - loss: 0.4926 - accuracy: 0.8056 - lr: 0.0316\n",
            "Epoch 52/100\n",
            "162/162 [==============================] - 0s 2ms/step - loss: 0.4935 - accuracy: 0.8056 - lr: 0.0355\n",
            "Epoch 53/100\n",
            "162/162 [==============================] - 0s 2ms/step - loss: 0.4932 - accuracy: 0.8056 - lr: 0.0398\n",
            "Epoch 54/100\n",
            "162/162 [==============================] - 0s 2ms/step - loss: 0.4940 - accuracy: 0.8056 - lr: 0.0447\n",
            "Epoch 55/100\n",
            "162/162 [==============================] - 0s 2ms/step - loss: 0.4939 - accuracy: 0.8056 - lr: 0.0501\n",
            "Epoch 56/100\n",
            "162/162 [==============================] - 0s 2ms/step - loss: 0.4943 - accuracy: 0.8056 - lr: 0.0562\n",
            "Epoch 57/100\n",
            "162/162 [==============================] - 0s 2ms/step - loss: 0.4949 - accuracy: 0.8056 - lr: 0.0631\n",
            "Epoch 58/100\n",
            "162/162 [==============================] - 0s 2ms/step - loss: 0.4941 - accuracy: 0.8056 - lr: 0.0708\n",
            "Epoch 59/100\n",
            "162/162 [==============================] - 0s 2ms/step - loss: 0.4949 - accuracy: 0.8056 - lr: 0.0794\n",
            "Epoch 60/100\n",
            "162/162 [==============================] - 0s 2ms/step - loss: 0.4978 - accuracy: 0.8056 - lr: 0.0891\n",
            "Epoch 61/100\n",
            "162/162 [==============================] - 0s 2ms/step - loss: 0.4968 - accuracy: 0.8056 - lr: 0.1000\n",
            "Epoch 62/100\n",
            "162/162 [==============================] - 0s 2ms/step - loss: 0.4966 - accuracy: 0.8056 - lr: 0.1122\n",
            "Epoch 63/100\n",
            "162/162 [==============================] - 0s 2ms/step - loss: 0.4979 - accuracy: 0.8056 - lr: 0.1259\n",
            "Epoch 64/100\n",
            "162/162 [==============================] - 0s 2ms/step - loss: 0.4973 - accuracy: 0.8056 - lr: 0.1413\n",
            "Epoch 65/100\n",
            "162/162 [==============================] - 0s 2ms/step - loss: 0.5054 - accuracy: 0.8056 - lr: 0.1585\n",
            "Epoch 66/100\n",
            "162/162 [==============================] - 0s 2ms/step - loss: 0.5063 - accuracy: 0.8056 - lr: 0.1778\n",
            "Epoch 67/100\n",
            "162/162 [==============================] - 0s 2ms/step - loss: 0.5132 - accuracy: 0.8056 - lr: 0.1995\n",
            "Epoch 68/100\n",
            "162/162 [==============================] - 0s 2ms/step - loss: 1.3937 - accuracy: 0.7673 - lr: 0.2239\n",
            "Epoch 69/100\n",
            "162/162 [==============================] - 0s 2ms/step - loss: 2.9985 - accuracy: 0.8056 - lr: 0.2512\n",
            "Epoch 70/100\n",
            "162/162 [==============================] - 0s 2ms/step - loss: 2.9985 - accuracy: 0.8056 - lr: 0.2818\n",
            "Epoch 71/100\n",
            "162/162 [==============================] - 0s 2ms/step - loss: 2.9985 - accuracy: 0.8056 - lr: 0.3162\n",
            "Epoch 72/100\n",
            "162/162 [==============================] - 0s 2ms/step - loss: 2.9985 - accuracy: 0.8056 - lr: 0.3548\n",
            "Epoch 73/100\n",
            "162/162 [==============================] - 0s 2ms/step - loss: 2.9985 - accuracy: 0.8056 - lr: 0.3981\n",
            "Epoch 74/100\n",
            "162/162 [==============================] - 0s 2ms/step - loss: 2.9985 - accuracy: 0.8056 - lr: 0.4467\n",
            "Epoch 75/100\n",
            "162/162 [==============================] - 0s 2ms/step - loss: 2.9985 - accuracy: 0.8056 - lr: 0.5012\n",
            "Epoch 76/100\n",
            "162/162 [==============================] - 0s 2ms/step - loss: 2.9985 - accuracy: 0.8056 - lr: 0.5623\n",
            "Epoch 77/100\n",
            "162/162 [==============================] - 0s 2ms/step - loss: 2.9985 - accuracy: 0.8056 - lr: 0.6310\n",
            "Epoch 78/100\n",
            "162/162 [==============================] - 0s 2ms/step - loss: 2.9985 - accuracy: 0.8056 - lr: 0.7079\n",
            "Epoch 79/100\n",
            "162/162 [==============================] - 0s 2ms/step - loss: 2.9985 - accuracy: 0.8056 - lr: 0.7943\n",
            "Epoch 80/100\n",
            "162/162 [==============================] - 0s 2ms/step - loss: 2.9985 - accuracy: 0.8056 - lr: 0.8913\n",
            "Epoch 81/100\n",
            "162/162 [==============================] - 0s 2ms/step - loss: 2.9985 - accuracy: 0.8056 - lr: 1.0000\n",
            "Epoch 82/100\n",
            "162/162 [==============================] - 0s 2ms/step - loss: 2.9985 - accuracy: 0.8056 - lr: 1.1220\n",
            "Epoch 83/100\n",
            "162/162 [==============================] - 0s 2ms/step - loss: 2.9985 - accuracy: 0.8056 - lr: 1.2589\n",
            "Epoch 84/100\n",
            "162/162 [==============================] - 0s 2ms/step - loss: 2.9985 - accuracy: 0.8056 - lr: 1.4125\n",
            "Epoch 85/100\n",
            "162/162 [==============================] - 0s 2ms/step - loss: 2.9985 - accuracy: 0.8056 - lr: 1.5849\n",
            "Epoch 86/100\n",
            "162/162 [==============================] - 0s 2ms/step - loss: 2.9985 - accuracy: 0.8056 - lr: 1.7783\n",
            "Epoch 87/100\n",
            "162/162 [==============================] - 0s 2ms/step - loss: 2.9985 - accuracy: 0.8056 - lr: 1.9953\n",
            "Epoch 88/100\n",
            "162/162 [==============================] - 0s 2ms/step - loss: 2.9985 - accuracy: 0.8056 - lr: 2.2387\n",
            "Epoch 89/100\n",
            "162/162 [==============================] - 0s 2ms/step - loss: 2.9985 - accuracy: 0.8056 - lr: 2.5119\n",
            "Epoch 90/100\n",
            "162/162 [==============================] - 0s 2ms/step - loss: 2.9985 - accuracy: 0.8056 - lr: 2.8184\n",
            "Epoch 91/100\n",
            "162/162 [==============================] - 0s 2ms/step - loss: 2.9985 - accuracy: 0.8056 - lr: 3.1623\n",
            "Epoch 92/100\n",
            "162/162 [==============================] - 0s 2ms/step - loss: 2.9985 - accuracy: 0.8056 - lr: 3.5481\n",
            "Epoch 93/100\n",
            "162/162 [==============================] - 0s 2ms/step - loss: 2.9985 - accuracy: 0.8056 - lr: 3.9811\n",
            "Epoch 94/100\n",
            "162/162 [==============================] - 0s 2ms/step - loss: 2.9985 - accuracy: 0.8056 - lr: 4.4668\n",
            "Epoch 95/100\n",
            "162/162 [==============================] - 0s 2ms/step - loss: 2.9985 - accuracy: 0.8056 - lr: 5.0119\n",
            "Epoch 96/100\n",
            "162/162 [==============================] - 0s 2ms/step - loss: 2.9985 - accuracy: 0.8056 - lr: 5.6234\n",
            "Epoch 97/100\n",
            "162/162 [==============================] - 0s 2ms/step - loss: 2.9985 - accuracy: 0.8056 - lr: 6.3096\n",
            "Epoch 98/100\n",
            "162/162 [==============================] - 0s 2ms/step - loss: 2.9985 - accuracy: 0.8056 - lr: 7.0795\n",
            "Epoch 99/100\n",
            "162/162 [==============================] - 0s 2ms/step - loss: 2.9985 - accuracy: 0.8056 - lr: 7.9433\n",
            "Epoch 100/100\n",
            "162/162 [==============================] - 0s 2ms/step - loss: 2.9985 - accuracy: 0.8056 - lr: 8.9125\n"
          ]
        }
      ]
    },
    {
      "cell_type": "code",
      "source": [
        "lrs = 1e-4 * (10 ** (tf.range(100)/20))\n",
        "plt.figure(figsize=(20, 10))\n",
        "plt.semilogx(lrs, history_lr.history['loss'])\n",
        "plt.xlabel(\"Learning Rate\")\n",
        "plt.ylabel(\"Loss\")\n",
        "plt.title(\"Learning Rate vs. Loss\")"
      ],
      "metadata": {
        "id": "h0quTudITzbB",
        "colab": {
          "base_uri": "https://localhost:8080/",
          "height": 371
        },
        "outputId": "24cb7c36-5b8e-490c-d3c1-4f023b78e362"
      },
      "execution_count": 24,
      "outputs": [
        {
          "output_type": "execute_result",
          "data": {
            "text/plain": [
              "Text(0.5, 1.0, 'Learning Rate vs. Loss')"
            ]
          },
          "metadata": {},
          "execution_count": 24
        },
        {
          "output_type": "display_data",
          "data": {
            "text/plain": [
              "<Figure size 1440x720 with 1 Axes>"
            ],
            "image/png": "[encoded data removed]"
          },
          "metadata": {
            "needs_background": "light"
          }
        }
      ]
    },
    {
      "cell_type": "markdown",
      "source": [
        "Evaluate with test data"
      ],
      "metadata": {
        "id": "ssOK1jV9tnDh"
      }
    },
    {
      "cell_type": "code",
      "source": [
        "loss, acc = model_1.evaluate(X_test_normal, y_test)\n",
        "print(f'Model Loss (Test Set) : {loss}')\n",
        "print(f'Model accuracy (Test Set) : {acc}')"
      ],
      "metadata": {
        "colab": {
          "base_uri": "https://localhost:8080/"
        },
        "id": "xCIPM8Dlu7pY",
        "outputId": "4cfea9d2-b847-46b7-cc8c-3654a6014d78"
      },
      "execution_count": 28,
      "outputs": [
        {
          "output_type": "stream",
          "name": "stdout",
          "text": [
            "41/41 [==============================] - 0s 4ms/step - loss: 0.4618 - accuracy: 0.8020\n",
            "Model Loss (Test Set) : 0.46184027194976807\n",
            "Model accuracy (Test Set) : 0.8020108342170715\n"
          ]
        }
      ]
    },
    {
      "cell_type": "markdown",
      "source": [
        "Understanding the model "
      ],
      "metadata": {
        "id": "7O3eFlvSvbHP"
      }
    },
    {
      "cell_type": "code",
      "source": [
        "from tensorflow.keras.utils import plot_model\n",
        "plot_model(model_1, show_shapes = True)"
      ],
      "metadata": {
        "colab": {
          "base_uri": "https://localhost:8080/",
          "height": 422
        },
        "id": "7LiQ7cAKv2PV",
        "outputId": "f907ca0f-3d2f-498a-86cc-9e53c1eaa86b"
      },
      "execution_count": 29,
      "outputs": [
        {
          "output_type": "execute_result",
          "data": {
            "image/png": "[encoded data removed]",
            "text/plain": [
              "<IPython.core.display.Image object>"
            ]
          },
          "metadata": {},
          "execution_count": 29
        }
      ]
    },
    {
      "cell_type": "code",
      "source": [
        "weights, biases = model_1.layers[1].get_weights()\n",
        "weights, weights.shape"
      ],
      "metadata": {
        "colab": {
          "base_uri": "https://localhost:8080/"
        },
        "id": "ZdLOr8bqwLf5",
        "outputId": "e945f16a-5ede-4fc2-8f42-0ecfaf1ba32c"
      },
      "execution_count": 30,
      "outputs": [
        {
          "output_type": "execute_result",
          "data": {
            "text/plain": [
              "(array([[ 0.06952535, -0.7751815 , -0.4744096 ,  1.0195011 ],\n",
              "        [ 0.3597664 ,  0.5938083 ,  0.14921305, -0.5775336 ],\n",
              "        [-0.04600176, -0.48598126, -0.5355348 ,  0.35883346],\n",
              "        [-0.23459457, -0.84834456,  0.79351217,  1.2876189 ]],\n",
              "       dtype=float32), (4, 4))"
            ]
          },
          "metadata": {},
          "execution_count": 30
        }
      ]
    },
    {
      "cell_type": "code",
      "source": [
        "biases, biases.shape"
      ],
      "metadata": {
        "colab": {
          "base_uri": "https://localhost:8080/"
        },
        "id": "8uO9tAdfwfWV",
        "outputId": "3c12e18d-ec62-4f26-9c6f-1f80761f31a2"
      },
      "execution_count": 32,
      "outputs": [
        {
          "output_type": "execute_result",
          "data": {
            "text/plain": [
              "(array([-0.01071276, -0.04733676, -0.03345042, -0.03777238], dtype=float32),\n",
              " (4,))"
            ]
          },
          "metadata": {},
          "execution_count": 32
        }
      ]
    },
    {
      "cell_type": "markdown",
      "source": [
        "## Multiclass classification"
      ],
      "metadata": {
        "id": "VhnU39d9wtAj"
      }
    },
    {
      "cell_type": "markdown",
      "source": [
        "Download data and split into training and test "
      ],
      "metadata": {
        "id": "ESDA-Jmkw5h4"
      }
    },
    {
      "cell_type": "code",
      "source": [
        "mnist = tf.keras.datasets.mnist\n",
        "(X_train, y_train), (X_test,y_test)  = mnist.load_data()\n"
      ],
      "metadata": {
        "colab": {
          "base_uri": "https://localhost:8080/"
        },
        "id": "xcJsZUmbw93V",
        "outputId": "1b842c1e-87f6-42c4-970a-0aec053717f1"
      },
      "execution_count": 35,
      "outputs": [
        {
          "output_type": "stream",
          "name": "stdout",
          "text": [
            "Downloading data from https://storage.googleapis.com/tensorflow/tf-keras-datasets/mnist.npz\n",
            "11493376/11490434 [==============================] - 0s 0us/step\n",
            "11501568/11490434 [==============================] - 0s 0us/step\n"
          ]
        }
      ]
    },
    {
      "cell_type": "code",
      "source": [
        "plt.imshow(X_train[0], cmap = 'gray')\n",
        "plt.show()"
      ],
      "metadata": {
        "colab": {
          "base_uri": "https://localhost:8080/",
          "height": 265
        },
        "id": "0q-n4mzEw4O_",
        "outputId": "a7cf37bd-a381-47e2-ac3c-58cb6e18a0e7"
      },
      "execution_count": 36,
      "outputs": [
        {
          "output_type": "display_data",
          "data": {
            "text/plain": [
              "<Figure size 432x288 with 1 Axes>"
            ],
            "image/png": "[encoded data removed]"
          },
          "metadata": {
            "needs_background": "light"
          }
        }
      ]
    },
    {
      "cell_type": "markdown",
      "source": [
        "Normalize the features"
      ],
      "metadata": {
        "id": "BFwKeNfJxyC2"
      }
    },
    {
      "cell_type": "code",
      "source": [
        "X_train = tf.keras.utils.normalize(X_train, axis =1)\n",
        "X_test = tf.keras.utils.normalize(X_test, axis =1)"
      ],
      "metadata": {
        "id": "1i8N504_x8ZD"
      },
      "execution_count": 37,
      "outputs": []
    },
    {
      "cell_type": "markdown",
      "source": [
        "Show unique values in label numpy array"
      ],
      "metadata": {
        "id": "b9aQgdFfyIg0"
      }
    },
    {
      "cell_type": "code",
      "source": [
        "np.unique(y_test)"
      ],
      "metadata": {
        "colab": {
          "base_uri": "https://localhost:8080/"
        },
        "id": "WMNGxH2DyMvd",
        "outputId": "b2310f9b-1567-490c-dda2-6dc1d0929b04"
      },
      "execution_count": 38,
      "outputs": [
        {
          "output_type": "execute_result",
          "data": {
            "text/plain": [
              "array([0, 1, 2, 3, 4, 5, 6, 7, 8, 9], dtype=uint8)"
            ]
          },
          "metadata": {},
          "execution_count": 38
        }
      ]
    },
    {
      "cell_type": "code",
      "source": [
        "label_names = np.unique(y_test)"
      ],
      "metadata": {
        "id": "vw9qYjoxyfx5"
      },
      "execution_count": 39,
      "outputs": []
    },
    {
      "cell_type": "markdown",
      "source": [
        "Build Model"
      ],
      "metadata": {
        "id": "18sdz1qkyoyF"
      }
    },
    {
      "cell_type": "code",
      "source": [
        "tf.random.set_seed(66)\n",
        "\n",
        "model_3 = tf.keras.Sequential([\n",
        "    tf.keras.layers.Flatten(input_shape = (28,28)),\n",
        "    tf.keras.layers.Dense(4, activation = 'relu'),\n",
        "    tf.keras.layers.Dense(4, activation = 'relu'),\n",
        "    tf.keras.layers.Dense(10, activation = 'softmax')\n",
        "])\n",
        "\n",
        "model_3.compile(loss = tf.keras.losses.SparseCategoricalCrossentropy(),\n",
        "                optimizer = tf.keras.optimizers.Adam(),\n",
        "                metrics = ['accuracy'])\n",
        "\n",
        "history = model_3.fit(X_train, \n",
        "                      y_train,\n",
        "                      epochs=10,\n",
        "                      validation_data=(X_test, y_test)) "
      ],
      "metadata": {
        "colab": {
          "base_uri": "https://localhost:8080/"
        },
        "id": "oavws0CQy2Pd",
        "outputId": "bd01367c-ba6c-4c2e-819c-8c2e699bef8f"
      },
      "execution_count": 55,
      "outputs": [
        {
          "output_type": "stream",
          "name": "stdout",
          "text": [
            "Epoch 1/10\n",
            "1875/1875 [==============================] - 5s 3ms/step - loss: 1.2820 - accuracy: 0.5607 - val_loss: 0.8054 - val_accuracy: 0.7317\n",
            "Epoch 2/10\n",
            "1875/1875 [==============================] - 5s 3ms/step - loss: 0.7314 - accuracy: 0.7564 - val_loss: 0.6764 - val_accuracy: 0.7763\n",
            "Epoch 3/10\n",
            "1875/1875 [==============================] - 5s 2ms/step - loss: 0.6550 - accuracy: 0.7826 - val_loss: 0.6293 - val_accuracy: 0.7931\n",
            "Epoch 4/10\n",
            "1875/1875 [==============================] - 5s 3ms/step - loss: 0.6186 - accuracy: 0.7974 - val_loss: 0.6008 - val_accuracy: 0.8069\n",
            "Epoch 5/10\n",
            "1875/1875 [==============================] - 5s 3ms/step - loss: 0.5955 - accuracy: 0.8138 - val_loss: 0.5836 - val_accuracy: 0.8236\n",
            "Epoch 6/10\n",
            "1875/1875 [==============================] - 5s 2ms/step - loss: 0.5709 - accuracy: 0.8284 - val_loss: 0.5625 - val_accuracy: 0.8380\n",
            "Epoch 7/10\n",
            "1875/1875 [==============================] - 4s 2ms/step - loss: 0.5500 - accuracy: 0.8383 - val_loss: 0.5454 - val_accuracy: 0.8408\n",
            "Epoch 8/10\n",
            "1875/1875 [==============================] - 5s 2ms/step - loss: 0.5366 - accuracy: 0.8419 - val_loss: 0.5329 - val_accuracy: 0.8466\n",
            "Epoch 9/10\n",
            "1875/1875 [==============================] - 5s 2ms/step - loss: 0.5270 - accuracy: 0.8439 - val_loss: 0.5251 - val_accuracy: 0.8482\n",
            "Epoch 10/10\n",
            "1875/1875 [==============================] - 5s 3ms/step - loss: 0.5200 - accuracy: 0.8467 - val_loss: 0.5197 - val_accuracy: 0.8480\n"
          ]
        }
      ]
    },
    {
      "cell_type": "code",
      "source": [
        "tf.random.set_seed(66)\n",
        "\n",
        "model_4 = tf.keras.Sequential([\n",
        "    tf.keras.layers.Flatten(input_shape = (28,28)),\n",
        "    tf.keras.layers.Dense(4, activation = 'relu'),\n",
        "    tf.keras.layers.Dense(4, activation = 'relu'),\n",
        "    tf.keras.layers.Dense(10, activation = 'softmax')\n",
        "])\n",
        "\n",
        "model_4.compile(loss = tf.keras.losses.SparseCategoricalCrossentropy(),\n",
        "                optimizer = tf.keras.optimizers.Adam(),\n",
        "                metrics = ['accuracy'])\n",
        "\n",
        "scheduler = tf.keras.callbacks.LearningRateScheduler(lambda epoch: 1e-4 * 10**(epoch/20))\n",
        "\n",
        "history_lr = model_4.fit(X_train, y_train, \n",
        "epochs=40, validation_data = (X_test, y_test),\n",
        "callbacks=[scheduler]) # You can have multiple callbacks"
      ],
      "metadata": {
        "colab": {
          "base_uri": "https://localhost:8080/"
        },
        "id": "qOS8FM530P5B",
        "outputId": "43d4b419-abc2-43d6-8b5a-548ce0a3bcf7"
      },
      "execution_count": 59,
      "outputs": [
        {
          "output_type": "stream",
          "name": "stdout",
          "text": [
            "Epoch 1/40\n",
            "1875/1875 [==============================] - 8s 4ms/step - loss: 2.1876 - accuracy: 0.1915 - val_loss: 2.0627 - val_accuracy: 0.2007 - lr: 1.0000e-04\n",
            "Epoch 2/40\n",
            "1875/1875 [==============================] - 5s 3ms/step - loss: 1.9364 - accuracy: 0.2911 - val_loss: 1.7653 - val_accuracy: 0.3396 - lr: 1.1220e-04\n",
            "Epoch 3/40\n",
            "1875/1875 [==============================] - 4s 2ms/step - loss: 1.6001 - accuracy: 0.4316 - val_loss: 1.4446 - val_accuracy: 0.5127 - lr: 1.2589e-04\n",
            "Epoch 4/40\n",
            "1875/1875 [==============================] - 7s 4ms/step - loss: 1.3326 - accuracy: 0.5781 - val_loss: 1.2177 - val_accuracy: 0.6460 - lr: 1.4125e-04\n",
            "Epoch 5/40\n",
            "1875/1875 [==============================] - 5s 2ms/step - loss: 1.1318 - accuracy: 0.6558 - val_loss: 1.0456 - val_accuracy: 0.6691 - lr: 1.5849e-04\n",
            "Epoch 6/40\n",
            "1875/1875 [==============================] - 5s 2ms/step - loss: 0.9891 - accuracy: 0.6765 - val_loss: 0.9317 - val_accuracy: 0.6850 - lr: 1.7783e-04\n",
            "Epoch 7/40\n",
            "1875/1875 [==============================] - 8s 4ms/step - loss: 0.8959 - accuracy: 0.7034 - val_loss: 0.8538 - val_accuracy: 0.7177 - lr: 1.9953e-04\n",
            "Epoch 8/40\n",
            "1875/1875 [==============================] - 5s 2ms/step - loss: 0.8286 - accuracy: 0.7294 - val_loss: 0.7952 - val_accuracy: 0.7399 - lr: 2.2387e-04\n",
            "Epoch 9/40\n",
            "1875/1875 [==============================] - 4s 2ms/step - loss: 0.7766 - accuracy: 0.7466 - val_loss: 0.7487 - val_accuracy: 0.7551 - lr: 2.5119e-04\n",
            "Epoch 10/40\n",
            "1875/1875 [==============================] - 6s 3ms/step - loss: 0.7352 - accuracy: 0.7589 - val_loss: 0.7112 - val_accuracy: 0.7702 - lr: 2.8184e-04\n",
            "Epoch 11/40\n",
            "1875/1875 [==============================] - 7s 4ms/step - loss: 0.7015 - accuracy: 0.7694 - val_loss: 0.6795 - val_accuracy: 0.7777 - lr: 3.1623e-04\n",
            "Epoch 12/40\n",
            "1875/1875 [==============================] - 5s 3ms/step - loss: 0.6743 - accuracy: 0.7780 - val_loss: 0.6564 - val_accuracy: 0.7847 - lr: 3.5481e-04\n",
            "Epoch 13/40\n",
            "1875/1875 [==============================] - 5s 2ms/step - loss: 0.6524 - accuracy: 0.7839 - val_loss: 0.6358 - val_accuracy: 0.7899 - lr: 3.9811e-04\n",
            "Epoch 14/40\n",
            "1875/1875 [==============================] - 5s 2ms/step - loss: 0.6344 - accuracy: 0.7903 - val_loss: 0.6199 - val_accuracy: 0.7944 - lr: 4.4668e-04\n",
            "Epoch 15/40\n",
            "1875/1875 [==============================] - 10s 5ms/step - loss: 0.6188 - accuracy: 0.7953 - val_loss: 0.6111 - val_accuracy: 0.7998 - lr: 5.0119e-04\n",
            "Epoch 16/40\n",
            "1875/1875 [==============================] - 7s 4ms/step - loss: 0.6053 - accuracy: 0.8038 - val_loss: 0.5951 - val_accuracy: 0.8071 - lr: 5.6234e-04\n",
            "Epoch 17/40\n",
            "1875/1875 [==============================] - 5s 3ms/step - loss: 0.5913 - accuracy: 0.8138 - val_loss: 0.5817 - val_accuracy: 0.8208 - lr: 6.3096e-04\n",
            "Epoch 18/40\n",
            "1875/1875 [==============================] - 6s 3ms/step - loss: 0.5748 - accuracy: 0.8254 - val_loss: 0.5642 - val_accuracy: 0.8347 - lr: 7.0795e-04\n",
            "Epoch 19/40\n",
            "1875/1875 [==============================] - 9s 5ms/step - loss: 0.5574 - accuracy: 0.8336 - val_loss: 0.5490 - val_accuracy: 0.8408 - lr: 7.9433e-04\n",
            "Epoch 20/40\n",
            "1875/1875 [==============================] - 10s 5ms/step - loss: 0.5437 - accuracy: 0.8387 - val_loss: 0.5442 - val_accuracy: 0.8406 - lr: 8.9125e-04\n",
            "Epoch 21/40\n",
            "1875/1875 [==============================] - 9s 5ms/step - loss: 0.5338 - accuracy: 0.8415 - val_loss: 0.5266 - val_accuracy: 0.8501 - lr: 0.0010\n",
            "Epoch 22/40\n",
            "1875/1875 [==============================] - 4s 2ms/step - loss: 0.5261 - accuracy: 0.8432 - val_loss: 0.5195 - val_accuracy: 0.8504 - lr: 0.0011\n",
            "Epoch 23/40\n",
            "1875/1875 [==============================] - 4s 2ms/step - loss: 0.5211 - accuracy: 0.8444 - val_loss: 0.5188 - val_accuracy: 0.8493 - lr: 0.0013\n",
            "Epoch 24/40\n",
            "1875/1875 [==============================] - 9s 5ms/step - loss: 0.5170 - accuracy: 0.8457 - val_loss: 0.5216 - val_accuracy: 0.8487 - lr: 0.0014\n",
            "Epoch 25/40\n",
            "1875/1875 [==============================] - 5s 2ms/step - loss: 0.5131 - accuracy: 0.8477 - val_loss: 0.5086 - val_accuracy: 0.8490 - lr: 0.0016\n",
            "Epoch 26/40\n",
            "1875/1875 [==============================] - 5s 2ms/step - loss: 0.5101 - accuracy: 0.8483 - val_loss: 0.5064 - val_accuracy: 0.8517 - lr: 0.0018\n",
            "Epoch 27/40\n",
            "1875/1875 [==============================] - 5s 3ms/step - loss: 0.5074 - accuracy: 0.8475 - val_loss: 0.5110 - val_accuracy: 0.8522 - lr: 0.0020\n",
            "Epoch 28/40\n",
            "1875/1875 [==============================] - 5s 3ms/step - loss: 0.5061 - accuracy: 0.8490 - val_loss: 0.5094 - val_accuracy: 0.8500 - lr: 0.0022\n",
            "Epoch 29/40\n",
            "1875/1875 [==============================] - 4s 2ms/step - loss: 0.5034 - accuracy: 0.8494 - val_loss: 0.5052 - val_accuracy: 0.8523 - lr: 0.0025\n",
            "Epoch 30/40\n",
            "1875/1875 [==============================] - 6s 3ms/step - loss: 0.5021 - accuracy: 0.8503 - val_loss: 0.5040 - val_accuracy: 0.8551 - lr: 0.0028\n",
            "Epoch 31/40\n",
            "1875/1875 [==============================] - 8s 4ms/step - loss: 0.4993 - accuracy: 0.8523 - val_loss: 0.4965 - val_accuracy: 0.8546 - lr: 0.0032\n",
            "Epoch 32/40\n",
            "1875/1875 [==============================] - 8s 4ms/step - loss: 0.4950 - accuracy: 0.8525 - val_loss: 0.5094 - val_accuracy: 0.8545 - lr: 0.0035\n",
            "Epoch 33/40\n",
            "1875/1875 [==============================] - 8s 4ms/step - loss: 0.4912 - accuracy: 0.8540 - val_loss: 0.4818 - val_accuracy: 0.8637 - lr: 0.0040\n",
            "Epoch 34/40\n",
            "1875/1875 [==============================] - 6s 3ms/step - loss: 0.4854 - accuracy: 0.8556 - val_loss: 0.4840 - val_accuracy: 0.8611 - lr: 0.0045\n",
            "Epoch 35/40\n",
            "1875/1875 [==============================] - 8s 4ms/step - loss: 0.4784 - accuracy: 0.8581 - val_loss: 0.4796 - val_accuracy: 0.8622 - lr: 0.0050\n",
            "Epoch 36/40\n",
            "1875/1875 [==============================] - 5s 3ms/step - loss: 0.4719 - accuracy: 0.8595 - val_loss: 0.4704 - val_accuracy: 0.8664 - lr: 0.0056\n",
            "Epoch 37/40\n",
            "1875/1875 [==============================] - 5s 3ms/step - loss: 0.4654 - accuracy: 0.8615 - val_loss: 0.4682 - val_accuracy: 0.8638 - lr: 0.0063\n",
            "Epoch 38/40\n",
            "1875/1875 [==============================] - 9s 5ms/step - loss: 0.4657 - accuracy: 0.8616 - val_loss: 0.4734 - val_accuracy: 0.8671 - lr: 0.0071\n",
            "Epoch 39/40\n",
            "1875/1875 [==============================] - 11s 6ms/step - loss: 0.4654 - accuracy: 0.8604 - val_loss: 0.4611 - val_accuracy: 0.8701 - lr: 0.0079\n",
            "Epoch 40/40\n",
            "1875/1875 [==============================] - 6s 3ms/step - loss: 0.4676 - accuracy: 0.8602 - val_loss: 0.4901 - val_accuracy: 0.8532 - lr: 0.0089\n"
          ]
        }
      ]
    },
    {
      "cell_type": "markdown",
      "source": [
        "Plot with the ideal learning rate "
      ],
      "metadata": {
        "id": "NfHlOQfy3TAU"
      }
    },
    {
      "cell_type": "code",
      "source": [
        "lrs = 1e-4 * (10 ** (tf.range(40)/20))\n",
        "plt.figure(figsize=(20, 10))\n",
        "plt.semilogx(lrs, history_lr.history['loss'])\n",
        "plt.xlabel(\"Learning Rate\")\n",
        "plt.ylabel(\"Loss\")\n",
        "plt.title(\"Learning Rate vs. Loss\")"
      ],
      "metadata": {
        "colab": {
          "base_uri": "https://localhost:8080/",
          "height": 369
        },
        "id": "THs_UPMr3m8r",
        "outputId": "622ec49d-3e5c-4e77-8775-452b3e2a56b8"
      },
      "execution_count": 60,
      "outputs": [
        {
          "output_type": "execute_result",
          "data": {
            "text/plain": [
              "Text(0.5, 1.0, 'Learning Rate vs. Loss')"
            ]
          },
          "metadata": {},
          "execution_count": 60
        },
        {
          "output_type": "display_data",
          "data": {
            "text/plain": [
              "<Figure size 1440x720 with 1 Axes>"
            ],
            "image/png": "[encoded data removed]"
          },
          "metadata": {
            "needs_background": "light"
          }
        }
      ]
    },
    {
      "cell_type": "markdown",
      "source": [
        "Make predictions with model"
      ],
      "metadata": {
        "id": "sU7Htnkl3vug"
      }
    },
    {
      "cell_type": "code",
      "source": [
        "y_prob = model_4.predict(X_test)\n",
        "y_prob[0]"
      ],
      "metadata": {
        "colab": {
          "base_uri": "https://localhost:8080/"
        },
        "id": "fGfycBIq4LBy",
        "outputId": "6f2da98a-e7bd-4e91-ad4d-9cc8f598fffb"
      },
      "execution_count": 61,
      "outputs": [
        {
          "output_type": "execute_result",
          "data": {
            "text/plain": [
              "array([2.9211724e-05, 7.1694584e-09, 7.2029456e-05, 1.3903922e-03,\n",
              "       8.8430670e-07, 6.8828285e-06, 3.2986835e-10, 9.9437910e-01,\n",
              "       6.0281312e-05, 4.0612081e-03], dtype=float32)"
            ]
          },
          "metadata": {},
          "execution_count": 61
        }
      ]
    },
    {
      "cell_type": "code",
      "source": [
        "label_names[tf.argmax(y_prob[0])]"
      ],
      "metadata": {
        "colab": {
          "base_uri": "https://localhost:8080/"
        },
        "id": "FcabFONG4ac4",
        "outputId": "cbfafd97-4b60-4a56-ee1c-a2e9f72c4dcd"
      },
      "execution_count": 62,
      "outputs": [
        {
          "output_type": "execute_result",
          "data": {
            "text/plain": [
              "7"
            ]
          },
          "metadata": {},
          "execution_count": 62
        }
      ]
    },
    {
      "cell_type": "code",
      "source": [
        "y_test[0]"
      ],
      "metadata": {
        "colab": {
          "base_uri": "https://localhost:8080/"
        },
        "id": "Yv-73HKf4tZv",
        "outputId": "161f8e08-390e-46e0-f385-3b1d49f52db7"
      },
      "execution_count": 63,
      "outputs": [
        {
          "output_type": "execute_result",
          "data": {
            "text/plain": [
              "7"
            ]
          },
          "metadata": {},
          "execution_count": 63
        }
      ]
    },
    {
      "cell_type": "code",
      "source": [
        "plt.imshow(X_test[0], cmap = 'gray')\n",
        "plt.show()"
      ],
      "metadata": {
        "colab": {
          "base_uri": "https://localhost:8080/",
          "height": 265
        },
        "id": "UzleDa9G4wkP",
        "outputId": "571bc83a-cc43-4473-b62e-78b01dbb61f5"
      },
      "execution_count": 64,
      "outputs": [
        {
          "output_type": "display_data",
          "data": {
            "text/plain": [
              "<Figure size 432x288 with 1 Axes>"
            ],
            "image/png": "[encoded data removed]"
          },
          "metadata": {
            "needs_background": "light"
          }
        }
      ]
    },
    {
      "cell_type": "code",
      "source": [],
      "metadata": {
        "id": "nM67qLwF45lx"
      },
      "execution_count": null,
      "outputs": []
    }
  ]
}